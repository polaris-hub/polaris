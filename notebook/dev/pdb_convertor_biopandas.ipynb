{
 "cells": [
  {
   "cell_type": "markdown",
   "metadata": {},
   "source": [
    "## Convert PBD file to Zarr file using `BioPandas`"
   ]
  },
  {
   "cell_type": "code",
   "execution_count": 9,
   "metadata": {},
   "outputs": [],
   "source": [
    "import pandas as pd\n",
    "from biopandas.pdb import PandasPdb\n",
    "import os\n",
    "import numpy as np\n",
    "import zarr"
   ]
  },
  {
   "cell_type": "code",
   "execution_count": 5,
   "metadata": {},
   "outputs": [],
   "source": [
    "# Use Bio.PDB to check if two pdb are identifcal\n",
    "\n",
    "from Bio.PDB import PDBParser, Superimposer\n",
    "\n",
    "# Function to load a PDB file\n",
    "def load_structure(file_path):\n",
    "    parser = PDBParser(QUIET=True)\n",
    "    structure = parser.get_structure('', file_path)\n",
    "    return structure\n",
    "\n",
    "# Function to compare two structures\n",
    "def compare_structures(structure1, structure2):\n",
    "    parser = PDBParser(QUIET=True)\n",
    "\n",
    "    # Load structure from pdb files\n",
    "    structure1 = parser.get_structure('', structure1)\n",
    "    structure2 = parser.get_structure('', structure2)\n",
    "\n",
    "    # Check if the number of atoms is the same\n",
    "    atoms1 = list(structure1.get_atoms())\n",
    "    atoms2 = list(structure2.get_atoms())\n",
    "\n",
    "    if len(atoms1) != len(atoms2):\n",
    "        return False\n",
    "\n",
    "    # Check if atomic coordinates are the same\n",
    "    for atom1, atom2 in zip(atoms1, atoms2):\n",
    "        if not atom1 - atom2 < 1e-3:  # Use a small tolerance for numerical precision\n",
    "            return False\n",
    "\n",
    "    # Superimpose the structures and check the RMSD\n",
    "    sup = Superimposer()\n",
    "    sup.set_atoms(atoms1, atoms2)\n",
    "    sup.apply(structure2.get_atoms())\n",
    "\n",
    "    # Print the RMSD\n",
    "    print(f\"RMSD: {sup.rms:.4f} Å\")\n",
    "    if sup.rms > 1e-3:  # Again, use a small tolerance\n",
    "        return False\n",
    "\n",
    "    return True\n",
    "\n",
    "\n"
   ]
  },
  {
   "cell_type": "code",
   "execution_count": 3,
   "metadata": {},
   "outputs": [],
   "source": [
    "# load a pdb file using biopandas function\n",
    "ppdb_df =  PandasPdb().read_pdb('8tav.pdb')\n",
    "\n",
    "# export PandasPdb object to pdb file\n",
    "ppdb_df.to_pdb('8tav_biopandas.pdb')"
   ]
  },
  {
   "cell_type": "code",
   "execution_count": 6,
   "metadata": {},
   "outputs": [
    {
     "name": "stdout",
     "output_type": "stream",
     "text": [
      "RMSD: 0.0000 Å\n",
      "The structures are identical.\n"
     ]
    }
   ],
   "source": [
    "# Compare the structures\n",
    "are_identical = compare_structures('8tav.pdb', '8tav_biopandas.pdb')\n",
    "\n",
    "# Print the result\n",
    "if are_identical:\n",
    "    print(\"The structures are identical.\")\n",
    "else:\n",
    "    print(\"The structures are not identical.\")"
   ]
  },
  {
   "cell_type": "code",
   "execution_count": 7,
   "metadata": {},
   "outputs": [
    {
     "data": {
      "text/plain": [
       "dict_keys(['_df', 'pdb_text', 'header', 'code', '_get_dict', 'pdb_path'])"
      ]
     },
     "execution_count": 7,
     "metadata": {},
     "output_type": "execute_result"
    }
   ],
   "source": [
    "ppdb_df.__dict__.keys()"
   ]
  },
  {
   "cell_type": "code",
   "execution_count": 8,
   "metadata": {},
   "outputs": [],
   "source": [
    "def load_group_as_numpy_arrays(group):\n",
    "    ''' Load group datasets to numpy arrays exluding `column_names`'''\n",
    "    arrays = {}\n",
    "    for key, item in group.items():\n",
    "        if key == \"column_names\":\n",
    "            continue\n",
    "        if isinstance(item, zarr.core.Array):\n",
    "            arrays[key] = item[:]\n",
    "        elif isinstance(item, zarr.hierarchy.Group):\n",
    "            arrays[key] = load_group_as_numpy_arrays(item)\n",
    "    return arrays"
   ]
  },
  {
   "cell_type": "code",
   "execution_count": 10,
   "metadata": {},
   "outputs": [],
   "source": [
    "import zarr\n",
    "import numpy as np\n",
    "\n",
    "\n",
    "def create_zarr_from_pdb(pdb_file, zarr_file):\n",
    "\n",
    "    # load structure\n",
    "    ppdb_df = PandasPdb().read_pdb(pdb_file)\n",
    "\n",
    "    # Create a Zarr store\n",
    "    store = zarr.DirectoryStore(zarr_file)\n",
    "\n",
    "    # Create a root group\n",
    "    root = zarr.group(store=store)\n",
    "\n",
    "    dtype_dict = {'object': 'str'}\n",
    "\n",
    "    for key in ['ATOM', 'HETATM', 'ANISOU', 'OTHERS']:\n",
    "\n",
    "        # Create group and add datasets\n",
    "        group = root.create_group(key)\n",
    "        \n",
    "        # create a dataset  \n",
    "        group.create_dataset(\"column_names\", data=ppdb_df.df[key].columns.tolist(), dtype=\"str\")\n",
    "\n",
    "        for col_name, col_val in ppdb_df.df[key].items():\n",
    "            dtype = col_val.values.dtype\n",
    "            dtype = dtype_dict.get(str(dtype) ,dtype)\n",
    "            group.create_dataset(col_name, data=col_val.values, dtype=dtype)\n"
   ]
  },
  {
   "cell_type": "code",
   "execution_count": 11,
   "metadata": {},
   "outputs": [],
   "source": [
    "create_zarr_from_pdb('8tav.pdb', '8tav.zarr')"
   ]
  },
  {
   "cell_type": "code",
   "execution_count": 13,
   "metadata": {},
   "outputs": [],
   "source": [
    "## load from zarr \n",
    "def zarr_to_pdb(zarr_file, pdb_file):\n",
    "    store = zarr.DirectoryStore(zarr_file)\n",
    "    root = zarr.open_group(store=store, mode='r')  # 'r' mode for read-only\n",
    "\n",
    "    ppdb = PandasPdb()\n",
    "\n",
    "    for key in ['ATOM', 'HETATM', 'ANISOU', 'OTHERS']:\n",
    "        group = root[key]\n",
    "        column_names = group[\"column_names\"][:]\n",
    "        ppdb.df[key] = pd.DataFrame(load_group_as_numpy_arrays(group))[column_names]\n",
    "\n",
    "    ppdb.to_pdb(pdb_file)"
   ]
  },
  {
   "cell_type": "code",
   "execution_count": 14,
   "metadata": {},
   "outputs": [],
   "source": [
    "zarr_to_pdb('8tav.zarr', '8tav_from_zarr.pdb')"
   ]
  },
  {
   "cell_type": "code",
   "execution_count": 15,
   "metadata": {},
   "outputs": [
    {
     "name": "stdout",
     "output_type": "stream",
     "text": [
      "RMSD: 0.0000 Å\n",
      "The structures are identical.\n"
     ]
    }
   ],
   "source": [
    "# Compare the structures\n",
    "are_identical = compare_structures('8tav.pdb', '8tav_from_zarr.pdb')\n",
    "\n",
    "# Print the result\n",
    "if are_identical:\n",
    "    print(\"The structures are identical.\")\n",
    "else:\n",
    "    print(\"The structures are not identical.\")"
   ]
  }
 ],
 "metadata": {
  "kernelspec": {
   "display_name": "po",
   "language": "python",
   "name": "python3"
  },
  "language_info": {
   "codemirror_mode": {
    "name": "ipython",
    "version": 3
   },
   "file_extension": ".py",
   "mimetype": "text/x-python",
   "name": "python",
   "nbconvert_exporter": "python",
   "pygments_lexer": "ipython3",
   "version": "3.12.4"
  }
 },
 "nbformat": 4,
 "nbformat_minor": 2
}
