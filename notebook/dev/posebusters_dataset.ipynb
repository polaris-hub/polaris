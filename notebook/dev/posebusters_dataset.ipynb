{
 "cells": [
  {
   "cell_type": "code",
   "execution_count": 1,
   "metadata": {},
   "outputs": [
    {
     "name": "stderr",
     "output_type": "stream",
     "text": [
      "/mnt/ps/home/CORP/lu.zhu/miniconda3/envs/po_datasets/lib/python3.12/site-packages/tqdm/auto.py:21: TqdmWarning: IProgress not found. Please update jupyter and ipywidgets. See https://ipywidgets.readthedocs.io/en/stable/user_install.html\n",
      "  from .autonotebook import tqdm as notebook_tqdm\n"
     ]
    }
   ],
   "source": [
    "%load_ext autoreload\n",
    "%autoreload 2\n",
    "import datamol as dm\n",
    "from pdb_convertor import create_zarr_from_pdb\n",
    "from pathlib import Path\n",
    "from polaris.dataset import DatasetFactory\n",
    "from polaris.dataset.converters import SDFConverter"
   ]
  },
  {
   "cell_type": "code",
   "execution_count": 2,
   "metadata": {},
   "outputs": [],
   "source": [
    "sdfs = []\n",
    "pdbs = []\n",
    "for path in dm.fs.glob(\"/mnt/ps/home/CORP/lu.zhu/project/polaris/notebook/dev/posebusters_paper_data/posebusters_benchmark_set/5S8I_2LY/*\"):\n",
    "    if path.endswith('sdf'):\n",
    "        sdfs.append(path.replace(\"file://\", \"\"))\n",
    "    elif path.endswith('pdb'):\n",
    "        pdbs.append(path.replace(\"file://\", \"\"))"
   ]
  },
  {
   "cell_type": "code",
   "execution_count": 3,
   "metadata": {},
   "outputs": [],
   "source": [
    "sdf_converter = SDFConverter()"
   ]
  },
  {
   "cell_type": "code",
   "execution_count": 4,
   "metadata": {},
   "outputs": [],
   "source": [
    "# Create a new factory object\n",
    "SAVE_DIR = '/mnt/ps/home/CORP/lu.zhu/project/polaris/notebook/dev'\n",
    "save_dst = dm.fs.join(SAVE_DIR, \"posebusters.zarr\")\n",
    "factory = DatasetFactory(zarr_root_path=save_dst)\n",
    "factory.reset(save_dst)"
   ]
  },
  {
   "cell_type": "code",
   "execution_count": 5,
   "metadata": {},
   "outputs": [],
   "source": [
    "protein_name = Path(path).parents[0].name\n",
    "\n",
    "file_list = [\"ligand\", \"ligand_start_conf\", \"ligands\"]\n",
    "root = \"/mnt/ps/home/CORP/lu.zhu/project/polaris/notebook/dev/posebusters_paper_data/posebusters_benchmark_set\""
   ]
  },
  {
   "cell_type": "code",
   "execution_count": 6,
   "metadata": {},
   "outputs": [
    {
     "name": "stderr",
     "output_type": "stream",
     "text": [
      "\u001b[32m2024-07-28 21:56:10.508\u001b[0m | \u001b[1mINFO    \u001b[0m | \u001b[36mpolaris.dataset._factory\u001b[0m:\u001b[36mregister_converter\u001b[0m:\u001b[36m112\u001b[0m - \u001b[1mYou are overwriting the converter for the sdf extension.\u001b[0m\n",
      "\u001b[32m2024-07-28 21:56:10.519\u001b[0m | \u001b[1mINFO    \u001b[0m | \u001b[36mpolaris.dataset._factory\u001b[0m:\u001b[36mregister_converter\u001b[0m:\u001b[36m112\u001b[0m - \u001b[1mYou are overwriting the converter for the sdf extension.\u001b[0m\n"
     ]
    }
   ],
   "source": [
    "factory = DatasetFactory(zarr_root_path=save_dst)\n",
    "factory.reset(save_dst)\n",
    "\n",
    "# Process your SDF files\n",
    "for file in file_list:\n",
    "    sdf_path = dm.fs.join(root, protein_name, f\"{protein_name}_{file}.sdf\")\n",
    "    factory.register_converter(\"sdf\", SDFConverter(smiles_column=f\"{file}_smiles\", mol_column=file, mol_prop_as_cols=False))\n",
    "    factory.add_from_file(sdf_path)\n",
    "\n",
    "# Build the dataset\n",
    "dataset = factory.build()"
   ]
  },
  {
   "cell_type": "code",
   "execution_count": 7,
   "metadata": {},
   "outputs": [
    {
     "name": "stderr",
     "output_type": "stream",
     "text": [
      "\u001b[32m2024-07-28 21:56:10.636\u001b[0m | \u001b[1mINFO    \u001b[0m | \u001b[36mpolaris._mixins\u001b[0m:\u001b[36mmd5sum\u001b[0m:\u001b[36m27\u001b[0m - \u001b[1mComputing the checksum. This can be slow for large datasets.\u001b[0m\n",
      "Finding all files in the Zarr archive: 100%|██████████| 8/8 [00:00<00:00, 4656.46it/s]\n"
     ]
    },
    {
     "data": {
      "text/html": [
       "<table border=\"1\"><tr><th>name</th><td>None</td></tr><tr><th>description</th><td></td></tr><tr><th>tags</th><td></td></tr><tr><th>user_attributes</th><td></td></tr><tr><th>owner</th><td>None</td></tr><tr><th>polaris_version</th><td>dev</td></tr><tr><th>default_adapters</th><td><table border=\"1\"><tr><th>ligand</th><td>BYTES_TO_MOL</td></tr><tr><th>ligand_start_conf</th><td>BYTES_TO_MOL</td></tr><tr><th>ligands</th><td>BYTES_TO_MOL</td></tr></table></td></tr><tr><th>zarr_root_path</th><td>/mnt/ps/home/CORP/lu.zhu/project/polaris/notebook/dev/posebusters.zarr</td></tr><tr><th>readme</th><td></td></tr><tr><th>annotations</th><td><table border=\"1\"><tr><th>ligand_smiles</th><td><table border=\"1\"><tr><th>is_pointer</th><td>False</td></tr><tr><th>modality</th><td>MOLECULE</td></tr><tr><th>description</th><td>None</td></tr><tr><th>user_attributes</th><td></td></tr><tr><th>dtype</th><td>object</td></tr></table></td></tr><tr><th>ligand</th><td><table border=\"1\"><tr><th>is_pointer</th><td>True</td></tr><tr><th>modality</th><td>MOLECULE_3D</td></tr><tr><th>description</th><td>None</td></tr><tr><th>user_attributes</th><td></td></tr><tr><th>dtype</th><td>object</td></tr></table></td></tr><tr><th>ligand_start_conf_smiles</th><td><table border=\"1\"><tr><th>is_pointer</th><td>False</td></tr><tr><th>modality</th><td>MOLECULE</td></tr><tr><th>description</th><td>None</td></tr><tr><th>user_attributes</th><td></td></tr><tr><th>dtype</th><td>object</td></tr></table></td></tr><tr><th>ligand_start_conf</th><td><table border=\"1\"><tr><th>is_pointer</th><td>True</td></tr><tr><th>modality</th><td>MOLECULE_3D</td></tr><tr><th>description</th><td>None</td></tr><tr><th>user_attributes</th><td></td></tr><tr><th>dtype</th><td>object</td></tr></table></td></tr><tr><th>ligands_smiles</th><td><table border=\"1\"><tr><th>is_pointer</th><td>False</td></tr><tr><th>modality</th><td>MOLECULE</td></tr><tr><th>description</th><td>None</td></tr><tr><th>user_attributes</th><td></td></tr><tr><th>dtype</th><td>object</td></tr></table></td></tr><tr><th>ligands</th><td><table border=\"1\"><tr><th>is_pointer</th><td>True</td></tr><tr><th>modality</th><td>MOLECULE_3D</td></tr><tr><th>description</th><td>None</td></tr><tr><th>user_attributes</th><td></td></tr><tr><th>dtype</th><td>object</td></tr></table></td></tr></table></td></tr><tr><th>source</th><td>None</td></tr><tr><th>license</th><td>None</td></tr><tr><th>curation_reference</th><td>None</td></tr><tr><th>cache_dir</th><td>/mnt/ps/home/CORP/lu.zhu/.cache/polaris/datasets/455357d6-4322-41e1-8b62-baf25b7d052a</td></tr><tr><th>md5sum</th><td>4009f2e7ff7328116d64c57b672f8430</td></tr><tr><th>artifact_id</th><td>None</td></tr><tr><th>n_rows</th><td>1</td></tr><tr><th>n_columns</th><td>6</td></tr></table>"
      ],
      "text/plain": [
       "{\n",
       "  \"name\": null,\n",
       "  \"description\": \"\",\n",
       "  \"tags\": [],\n",
       "  \"user_attributes\": {},\n",
       "  \"owner\": null,\n",
       "  \"polaris_version\": \"dev\",\n",
       "  \"default_adapters\": {\n",
       "    \"ligand\": \"BYTES_TO_MOL\",\n",
       "    \"ligand_start_conf\": \"BYTES_TO_MOL\",\n",
       "    \"ligands\": \"BYTES_TO_MOL\"\n",
       "  },\n",
       "  \"zarr_root_path\": \"/mnt/ps/home/CORP/lu.zhu/project/polaris/notebook/dev/posebusters.zarr\",\n",
       "  \"readme\": \"\",\n",
       "  \"annotations\": {\n",
       "    \"ligand_smiles\": {\n",
       "      \"is_pointer\": false,\n",
       "      \"modality\": \"MOLECULE\",\n",
       "      \"description\": null,\n",
       "      \"user_attributes\": {},\n",
       "      \"dtype\": \"object\"\n",
       "    },\n",
       "    \"ligand\": {\n",
       "      \"is_pointer\": true,\n",
       "      \"modality\": \"MOLECULE_3D\",\n",
       "      \"description\": null,\n",
       "      \"user_attributes\": {},\n",
       "      \"dtype\": \"object\"\n",
       "    },\n",
       "    \"ligand_start_conf_smiles\": {\n",
       "      \"is_pointer\": false,\n",
       "      \"modality\": \"MOLECULE\",\n",
       "      \"description\": null,\n",
       "      \"user_attributes\": {},\n",
       "      \"dtype\": \"object\"\n",
       "    },\n",
       "    \"ligand_start_conf\": {\n",
       "      \"is_pointer\": true,\n",
       "      \"modality\": \"MOLECULE_3D\",\n",
       "      \"description\": null,\n",
       "      \"user_attributes\": {},\n",
       "      \"dtype\": \"object\"\n",
       "    },\n",
       "    \"ligands_smiles\": {\n",
       "      \"is_pointer\": false,\n",
       "      \"modality\": \"MOLECULE\",\n",
       "      \"description\": null,\n",
       "      \"user_attributes\": {},\n",
       "      \"dtype\": \"object\"\n",
       "    },\n",
       "    \"ligands\": {\n",
       "      \"is_pointer\": true,\n",
       "      \"modality\": \"MOLECULE_3D\",\n",
       "      \"description\": null,\n",
       "      \"user_attributes\": {},\n",
       "      \"dtype\": \"object\"\n",
       "    }\n",
       "  },\n",
       "  \"source\": null,\n",
       "  \"license\": null,\n",
       "  \"curation_reference\": null,\n",
       "  \"cache_dir\": \"/mnt/ps/home/CORP/lu.zhu/.cache/polaris/datasets/455357d6-4322-41e1-8b62-baf25b7d052a\",\n",
       "  \"md5sum\": \"4009f2e7ff7328116d64c57b672f8430\",\n",
       "  \"artifact_id\": null,\n",
       "  \"n_rows\": 1,\n",
       "  \"n_columns\": 6\n",
       "}"
      ]
     },
     "execution_count": 7,
     "metadata": {},
     "output_type": "execute_result"
    }
   ],
   "source": [
    "dataset"
   ]
  },
  {
   "cell_type": "code",
   "execution_count": 8,
   "metadata": {},
   "outputs": [],
   "source": [
    "index = 0\n",
    "create_zarr_from_pdb(pdb_file = pdbs[0], index=0,\n",
    "                     zarr_file=dataset.zarr_root_path,\n",
    "                      mode='a' )"
   ]
  },
  {
   "cell_type": "code",
   "execution_count": 9,
   "metadata": {},
   "outputs": [
    {
     "data": {
      "text/html": [
       "<div>\n",
       "<style scoped>\n",
       "    .dataframe tbody tr th:only-of-type {\n",
       "        vertical-align: middle;\n",
       "    }\n",
       "\n",
       "    .dataframe tbody tr th {\n",
       "        vertical-align: top;\n",
       "    }\n",
       "\n",
       "    .dataframe thead th {\n",
       "        text-align: right;\n",
       "    }\n",
       "</style>\n",
       "<table border=\"1\" class=\"dataframe\">\n",
       "  <thead>\n",
       "    <tr style=\"text-align: right;\">\n",
       "      <th></th>\n",
       "      <th>ligand_smiles</th>\n",
       "      <th>ligand</th>\n",
       "      <th>ligand_start_conf_smiles</th>\n",
       "      <th>ligand_start_conf</th>\n",
       "      <th>ligands_smiles</th>\n",
       "      <th>ligands</th>\n",
       "    </tr>\n",
       "  </thead>\n",
       "  <tbody>\n",
       "    <tr>\n",
       "      <th>0</th>\n",
       "      <td>CNC(=O)C1=C2OCCOC2=CS1</td>\n",
       "      <td>ligand#0</td>\n",
       "      <td>[H]C1=C2OC([H])([H])C([H])([H])OC2=C(C(=O)N([H...</td>\n",
       "      <td>ligand_start_conf#0</td>\n",
       "      <td>CNC(=O)C1=C2OCCOC2=CS1</td>\n",
       "      <td>ligands#0</td>\n",
       "    </tr>\n",
       "  </tbody>\n",
       "</table>\n",
       "</div>"
      ],
      "text/plain": [
       "            ligand_smiles    ligand  \\\n",
       "0  CNC(=O)C1=C2OCCOC2=CS1  ligand#0   \n",
       "\n",
       "                            ligand_start_conf_smiles    ligand_start_conf  \\\n",
       "0  [H]C1=C2OC([H])([H])C([H])([H])OC2=C(C(=O)N([H...  ligand_start_conf#0   \n",
       "\n",
       "           ligands_smiles    ligands  \n",
       "0  CNC(=O)C1=C2OCCOC2=CS1  ligands#0  "
      ]
     },
     "execution_count": 9,
     "metadata": {},
     "output_type": "execute_result"
    }
   ],
   "source": [
    "dataset.table"
   ]
  },
  {
   "cell_type": "code",
   "execution_count": 10,
   "metadata": {},
   "outputs": [],
   "source": [
    "dataset.table[\"pdb\"] = f\"pdb#{index}\""
   ]
  },
  {
   "cell_type": "code",
   "execution_count": 11,
   "metadata": {},
   "outputs": [],
   "source": [
    "from polaris.dataset import ColumnAnnotation"
   ]
  },
  {
   "cell_type": "code",
   "execution_count": 12,
   "metadata": {},
   "outputs": [],
   "source": [
    "dataset.annotations['pdb'] = ColumnAnnotation(is_pointer=True, modality=\"protein_3D\", \n",
    "description=None, user_attributes={})\n"
   ]
  },
  {
   "cell_type": "code",
   "execution_count": 13,
   "metadata": {},
   "outputs": [
    {
     "data": {
      "text/html": [
       "<table border=\"1\"><tr><th>name</th><td>None</td></tr><tr><th>description</th><td></td></tr><tr><th>tags</th><td></td></tr><tr><th>user_attributes</th><td></td></tr><tr><th>owner</th><td>None</td></tr><tr><th>polaris_version</th><td>dev</td></tr><tr><th>default_adapters</th><td><table border=\"1\"><tr><th>ligand</th><td>BYTES_TO_MOL</td></tr><tr><th>ligand_start_conf</th><td>BYTES_TO_MOL</td></tr><tr><th>ligands</th><td>BYTES_TO_MOL</td></tr></table></td></tr><tr><th>zarr_root_path</th><td>/mnt/ps/home/CORP/lu.zhu/project/polaris/notebook/dev/posebusters.zarr</td></tr><tr><th>readme</th><td></td></tr><tr><th>annotations</th><td><table border=\"1\"><tr><th>ligand_smiles</th><td><table border=\"1\"><tr><th>is_pointer</th><td>False</td></tr><tr><th>modality</th><td>MOLECULE</td></tr><tr><th>description</th><td>None</td></tr><tr><th>user_attributes</th><td></td></tr><tr><th>dtype</th><td>object</td></tr></table></td></tr><tr><th>ligand</th><td><table border=\"1\"><tr><th>is_pointer</th><td>True</td></tr><tr><th>modality</th><td>MOLECULE_3D</td></tr><tr><th>description</th><td>None</td></tr><tr><th>user_attributes</th><td></td></tr><tr><th>dtype</th><td>object</td></tr></table></td></tr><tr><th>ligand_start_conf_smiles</th><td><table border=\"1\"><tr><th>is_pointer</th><td>False</td></tr><tr><th>modality</th><td>MOLECULE</td></tr><tr><th>description</th><td>None</td></tr><tr><th>user_attributes</th><td></td></tr><tr><th>dtype</th><td>object</td></tr></table></td></tr><tr><th>ligand_start_conf</th><td><table border=\"1\"><tr><th>is_pointer</th><td>True</td></tr><tr><th>modality</th><td>MOLECULE_3D</td></tr><tr><th>description</th><td>None</td></tr><tr><th>user_attributes</th><td></td></tr><tr><th>dtype</th><td>object</td></tr></table></td></tr><tr><th>ligands_smiles</th><td><table border=\"1\"><tr><th>is_pointer</th><td>False</td></tr><tr><th>modality</th><td>MOLECULE</td></tr><tr><th>description</th><td>None</td></tr><tr><th>user_attributes</th><td></td></tr><tr><th>dtype</th><td>object</td></tr></table></td></tr><tr><th>ligands</th><td><table border=\"1\"><tr><th>is_pointer</th><td>True</td></tr><tr><th>modality</th><td>MOLECULE_3D</td></tr><tr><th>description</th><td>None</td></tr><tr><th>user_attributes</th><td></td></tr><tr><th>dtype</th><td>object</td></tr></table></td></tr><tr><th>pdb</th><td><table border=\"1\"><tr><th>is_pointer</th><td>True</td></tr><tr><th>modality</th><td>PROTEIN_3D</td></tr><tr><th>description</th><td>None</td></tr><tr><th>user_attributes</th><td></td></tr><tr><th>dtype</th><td>None</td></tr></table></td></tr></table></td></tr><tr><th>source</th><td>None</td></tr><tr><th>license</th><td>None</td></tr><tr><th>curation_reference</th><td>None</td></tr><tr><th>cache_dir</th><td>/mnt/ps/home/CORP/lu.zhu/.cache/polaris/datasets/455357d6-4322-41e1-8b62-baf25b7d052a</td></tr><tr><th>md5sum</th><td>4009f2e7ff7328116d64c57b672f8430</td></tr><tr><th>artifact_id</th><td>None</td></tr><tr><th>n_rows</th><td>1</td></tr><tr><th>n_columns</th><td>7</td></tr></table>"
      ],
      "text/plain": [
       "{\n",
       "  \"name\": null,\n",
       "  \"description\": \"\",\n",
       "  \"tags\": [],\n",
       "  \"user_attributes\": {},\n",
       "  \"owner\": null,\n",
       "  \"polaris_version\": \"dev\",\n",
       "  \"default_adapters\": {\n",
       "    \"ligand\": \"BYTES_TO_MOL\",\n",
       "    \"ligand_start_conf\": \"BYTES_TO_MOL\",\n",
       "    \"ligands\": \"BYTES_TO_MOL\"\n",
       "  },\n",
       "  \"zarr_root_path\": \"/mnt/ps/home/CORP/lu.zhu/project/polaris/notebook/dev/posebusters.zarr\",\n",
       "  \"readme\": \"\",\n",
       "  \"annotations\": {\n",
       "    \"ligand_smiles\": {\n",
       "      \"is_pointer\": false,\n",
       "      \"modality\": \"MOLECULE\",\n",
       "      \"description\": null,\n",
       "      \"user_attributes\": {},\n",
       "      \"dtype\": \"object\"\n",
       "    },\n",
       "    \"ligand\": {\n",
       "      \"is_pointer\": true,\n",
       "      \"modality\": \"MOLECULE_3D\",\n",
       "      \"description\": null,\n",
       "      \"user_attributes\": {},\n",
       "      \"dtype\": \"object\"\n",
       "    },\n",
       "    \"ligand_start_conf_smiles\": {\n",
       "      \"is_pointer\": false,\n",
       "      \"modality\": \"MOLECULE\",\n",
       "      \"description\": null,\n",
       "      \"user_attributes\": {},\n",
       "      \"dtype\": \"object\"\n",
       "    },\n",
       "    \"ligand_start_conf\": {\n",
       "      \"is_pointer\": true,\n",
       "      \"modality\": \"MOLECULE_3D\",\n",
       "      \"description\": null,\n",
       "      \"user_attributes\": {},\n",
       "      \"dtype\": \"object\"\n",
       "    },\n",
       "    \"ligands_smiles\": {\n",
       "      \"is_pointer\": false,\n",
       "      \"modality\": \"MOLECULE\",\n",
       "      \"description\": null,\n",
       "      \"user_attributes\": {},\n",
       "      \"dtype\": \"object\"\n",
       "    },\n",
       "    \"ligands\": {\n",
       "      \"is_pointer\": true,\n",
       "      \"modality\": \"MOLECULE_3D\",\n",
       "      \"description\": null,\n",
       "      \"user_attributes\": {},\n",
       "      \"dtype\": \"object\"\n",
       "    },\n",
       "    \"pdb\": {\n",
       "      \"is_pointer\": true,\n",
       "      \"modality\": \"PROTEIN_3D\",\n",
       "      \"description\": null,\n",
       "      \"user_attributes\": {},\n",
       "      \"dtype\": null\n",
       "    }\n",
       "  },\n",
       "  \"source\": null,\n",
       "  \"license\": null,\n",
       "  \"curation_reference\": null,\n",
       "  \"cache_dir\": \"/mnt/ps/home/CORP/lu.zhu/.cache/polaris/datasets/455357d6-4322-41e1-8b62-baf25b7d052a\",\n",
       "  \"md5sum\": \"4009f2e7ff7328116d64c57b672f8430\",\n",
       "  \"artifact_id\": null,\n",
       "  \"n_rows\": 1,\n",
       "  \"n_columns\": 7\n",
       "}"
      ]
     },
     "execution_count": 13,
     "metadata": {},
     "output_type": "execute_result"
    }
   ],
   "source": [
    "dataset"
   ]
  },
  {
   "cell_type": "code",
   "execution_count": 14,
   "metadata": {},
   "outputs": [
    {
     "data": {
      "text/html": [
       "<div>\n",
       "<style scoped>\n",
       "    .dataframe tbody tr th:only-of-type {\n",
       "        vertical-align: middle;\n",
       "    }\n",
       "\n",
       "    .dataframe tbody tr th {\n",
       "        vertical-align: top;\n",
       "    }\n",
       "\n",
       "    .dataframe thead th {\n",
       "        text-align: right;\n",
       "    }\n",
       "</style>\n",
       "<table border=\"1\" class=\"dataframe\">\n",
       "  <thead>\n",
       "    <tr style=\"text-align: right;\">\n",
       "      <th></th>\n",
       "      <th>0</th>\n",
       "    </tr>\n",
       "  </thead>\n",
       "  <tbody>\n",
       "    <tr>\n",
       "      <th>ligand_smiles</th>\n",
       "      <td>CNC(=O)C1=C2OCCOC2=CS1</td>\n",
       "    </tr>\n",
       "    <tr>\n",
       "      <th>ligand</th>\n",
       "      <td>ligand#0</td>\n",
       "    </tr>\n",
       "    <tr>\n",
       "      <th>ligand_start_conf_smiles</th>\n",
       "      <td>[H]C1=C2OC([H])([H])C([H])([H])OC2=C(C(=O)N([H...</td>\n",
       "    </tr>\n",
       "    <tr>\n",
       "      <th>ligand_start_conf</th>\n",
       "      <td>ligand_start_conf#0</td>\n",
       "    </tr>\n",
       "    <tr>\n",
       "      <th>ligands_smiles</th>\n",
       "      <td>CNC(=O)C1=C2OCCOC2=CS1</td>\n",
       "    </tr>\n",
       "    <tr>\n",
       "      <th>ligands</th>\n",
       "      <td>ligands#0</td>\n",
       "    </tr>\n",
       "    <tr>\n",
       "      <th>pdb</th>\n",
       "      <td>pdb#0</td>\n",
       "    </tr>\n",
       "  </tbody>\n",
       "</table>\n",
       "</div>"
      ],
      "text/plain": [
       "                                                                          0\n",
       "ligand_smiles                                        CNC(=O)C1=C2OCCOC2=CS1\n",
       "ligand                                                             ligand#0\n",
       "ligand_start_conf_smiles  [H]C1=C2OC([H])([H])C([H])([H])OC2=C(C(=O)N([H...\n",
       "ligand_start_conf                                       ligand_start_conf#0\n",
       "ligands_smiles                                       CNC(=O)C1=C2OCCOC2=CS1\n",
       "ligands                                                           ligands#0\n",
       "pdb                                                                   pdb#0"
      ]
     },
     "execution_count": 14,
     "metadata": {},
     "output_type": "execute_result"
    }
   ],
   "source": [
    "dataset.table.T"
   ]
  },
  {
   "cell_type": "code",
   "execution_count": null,
   "metadata": {},
   "outputs": [],
   "source": []
  },
  {
   "cell_type": "code",
   "execution_count": null,
   "metadata": {},
   "outputs": [],
   "source": []
  }
 ],
 "metadata": {
  "kernelspec": {
   "display_name": "po_datasets",
   "language": "python",
   "name": "python3"
  },
  "language_info": {
   "codemirror_mode": {
    "name": "ipython",
    "version": 3
   },
   "file_extension": ".py",
   "mimetype": "text/x-python",
   "name": "python",
   "nbconvert_exporter": "python",
   "pygments_lexer": "ipython3",
   "version": "3.12.4"
  }
 },
 "nbformat": 4,
 "nbformat_minor": 2
}
