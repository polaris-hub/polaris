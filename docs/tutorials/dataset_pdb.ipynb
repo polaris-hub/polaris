{
 "cells": [
  {
   "cell_type": "code",
   "execution_count": 1,
   "id": "217690be-9836-4e06-930e-ba7efbb37d91",
   "metadata": {
    "editable": true,
    "slideshow": {
     "slide_type": ""
    },
    "tags": [
     "remove_cell"
    ]
   },
   "outputs": [],
   "source": [
    "# Note: Cell is tagged to not show up in the mkdocs build\n",
    "%load_ext autoreload\n",
    "%autoreload 2"
   ]
  },
  {
   "cell_type": "markdown",
   "id": "39b58e71",
   "metadata": {
    "editable": true,
    "slideshow": {
     "slide_type": ""
    },
    "tags": []
   },
   "source": [
    "<div class=\"admonition abstract highlight\">\n",
    "    <p class=\"admonition-title\">In short</p>\n",
    "    <p>This tutorial shows how to create datasets with PDBs through the .zarr format.</p>\n",
    "</div>\n",
    "\n",
    "<div class=\"admonition abstract example\">\n",
    "    <p class=\"admonition-title\">This feature is still very new.</p>\n",
    "    <p>The features we will show in this tutorial are still experimental. We would love to learn from the community how we can make it easier to create datasets.</p>\n",
    "</div>"
   ]
  },
  {
   "cell_type": "markdown",
   "id": "e154bb54",
   "metadata": {
    "editable": true,
    "slideshow": {
     "slide_type": ""
    },
    "tags": []
   },
   "source": [
    "### Dummy PDB example"
   ]
  },
  {
   "cell_type": "code",
   "execution_count": 1,
   "id": "5e201379",
   "metadata": {
    "editable": true,
    "slideshow": {
     "slide_type": ""
    },
    "tags": []
   },
   "outputs": [],
   "source": [
    "import platformdirs\n",
    "\n",
    "import datamol as dm\n",
    "\n",
    "from polaris.dataset import DatasetFactory\n",
    "from polaris.dataset.converters import PDBConverter\n",
    "\n",
    "SAVE_DIR = dm.fs.join(platformdirs.user_cache_dir(appname=\"polaris-tutorials\"), \"dataset_pdb\")"
   ]
  },
  {
   "cell_type": "markdown",
   "id": "f4a4a9c7",
   "metadata": {},
   "source": [
    "### Fetch PDB files from RCSB PDB"
   ]
  },
  {
   "cell_type": "code",
   "execution_count": null,
   "id": "fda9b878",
   "metadata": {},
   "outputs": [],
   "source": [
    "import biotite.database.rcsb as rcsb\n",
    "\n",
    "pdb_path = rcsb.fetch(\"6s89\", \"pdb\", SAVE_DIR)\n",
    "print(pdb_path)"
   ]
  },
  {
   "cell_type": "markdown",
   "id": "8a47ae20",
   "metadata": {},
   "source": [
    "### Create dataset from PDB file"
   ]
  },
  {
   "cell_type": "code",
   "execution_count": 14,
   "id": "07442028",
   "metadata": {
    "editable": true,
    "slideshow": {
     "slide_type": ""
    },
    "tags": []
   },
   "outputs": [],
   "source": [
    "save_dst = dm.fs.join(SAVE_DIR, \"tutorial_pdb.zarr\")\n",
    "\n",
    "factory = DatasetFactory(zarr_root_path=save_dst)\n",
    "factory.reset(save_dst)\n",
    "\n",
    "factory.register_converter(\"pdb\", PDBConverter(pdb_column=\"pdb\"))\n",
    "factory.add_from_file(pdb_path)\n",
    "\n",
    "# Build the dataset\n",
    "dataset = factory.build()"
   ]
  },
  {
   "cell_type": "markdown",
   "id": "35bb183e",
   "metadata": {},
   "source": [
    "### Check the dataset"
   ]
  },
  {
   "cell_type": "code",
   "execution_count": 15,
   "id": "05712cbd",
   "metadata": {},
   "outputs": [
    {
     "data": {
      "text/html": [
       "<table border=\"1\"><tr><th>name</th><td>None</td></tr><tr><th>description</th><td></td></tr><tr><th>tags</th><td></td></tr><tr><th>user_attributes</th><td></td></tr><tr><th>owner</th><td>None</td></tr><tr><th>polaris_version</th><td>0.7.10.dev22+g8edf177.d20240814</td></tr><tr><th>default_adapters</th><td><table border=\"1\"><tr><th>pdb</th><td>ARRAY_TO_PDB</td></tr></table></td></tr><tr><th>zarr_root_path</th><td>/Users/lu.zhu/Library/Caches/polaris-tutorials/002/tutorial_pdb.zarr</td></tr><tr><th>readme</th><td></td></tr><tr><th>annotations</th><td><table border=\"1\"><tr><th>pdb</th><td><table border=\"1\"><tr><th>is_pointer</th><td>True</td></tr><tr><th>modality</th><td>PROTEIN_3D</td></tr><tr><th>description</th><td>None</td></tr><tr><th>user_attributes</th><td></td></tr><tr><th>dtype</th><td>object</td></tr></table></td></tr></table></td></tr><tr><th>source</th><td>None</td></tr><tr><th>license</th><td>None</td></tr><tr><th>curation_reference</th><td>None</td></tr><tr><th>cache_dir</th><td>/Users/lu.zhu/Library/Caches/polaris/datasets/b0895f92-5a11-4e48-953f-3f969c6a9ca6</td></tr><tr><th>md5sum</th><td>66f3c7774e655bc6d48c907100d6912f</td></tr><tr><th>artifact_id</th><td>None</td></tr><tr><th>n_rows</th><td>1</td></tr><tr><th>n_columns</th><td>1</td></tr></table>"
      ],
      "text/plain": [
       "{\n",
       "  \"name\": null,\n",
       "  \"description\": \"\",\n",
       "  \"tags\": [],\n",
       "  \"user_attributes\": {},\n",
       "  \"owner\": null,\n",
       "  \"polaris_version\": \"0.7.10.dev22+g8edf177.d20240814\",\n",
       "  \"default_adapters\": {\n",
       "    \"pdb\": \"ARRAY_TO_PDB\"\n",
       "  },\n",
       "  \"zarr_root_path\": \"/Users/lu.zhu/Library/Caches/polaris-tutorials/002/tutorial_pdb.zarr\",\n",
       "  \"readme\": \"\",\n",
       "  \"annotations\": {\n",
       "    \"pdb\": {\n",
       "      \"is_pointer\": true,\n",
       "      \"modality\": \"PROTEIN_3D\",\n",
       "      \"description\": null,\n",
       "      \"user_attributes\": {},\n",
       "      \"dtype\": \"object\"\n",
       "    }\n",
       "  },\n",
       "  \"source\": null,\n",
       "  \"license\": null,\n",
       "  \"curation_reference\": null,\n",
       "  \"cache_dir\": \"/Users/lu.zhu/Library/Caches/polaris/datasets/b0895f92-5a11-4e48-953f-3f969c6a9ca6\",\n",
       "  \"md5sum\": \"66f3c7774e655bc6d48c907100d6912f\",\n",
       "  \"artifact_id\": null,\n",
       "  \"n_rows\": 1,\n",
       "  \"n_columns\": 1\n",
       "}"
      ]
     },
     "execution_count": 15,
     "metadata": {},
     "output_type": "execute_result"
    }
   ],
   "source": [
    "dataset"
   ]
  },
  {
   "cell_type": "markdown",
   "id": "e5f904bc",
   "metadata": {},
   "source": [
    "### Check data table"
   ]
  },
  {
   "cell_type": "code",
   "execution_count": 16,
   "id": "6b7017ad",
   "metadata": {},
   "outputs": [
    {
     "data": {
      "text/html": [
       "<div>\n",
       "<style scoped>\n",
       "    .dataframe tbody tr th:only-of-type {\n",
       "        vertical-align: middle;\n",
       "    }\n",
       "\n",
       "    .dataframe tbody tr th {\n",
       "        vertical-align: top;\n",
       "    }\n",
       "\n",
       "    .dataframe thead th {\n",
       "        text-align: right;\n",
       "    }\n",
       "</style>\n",
       "<table border=\"1\" class=\"dataframe\">\n",
       "  <thead>\n",
       "    <tr style=\"text-align: right;\">\n",
       "      <th></th>\n",
       "      <th>pdb</th>\n",
       "    </tr>\n",
       "  </thead>\n",
       "  <tbody>\n",
       "    <tr>\n",
       "      <th>0</th>\n",
       "      <td>pdb/6s89</td>\n",
       "    </tr>\n",
       "  </tbody>\n",
       "</table>\n",
       "</div>"
      ],
      "text/plain": [
       "        pdb\n",
       "0  pdb/6s89"
      ]
     },
     "execution_count": 16,
     "metadata": {},
     "output_type": "execute_result"
    }
   ],
   "source": [
    "dataset.table"
   ]
  },
  {
   "cell_type": "markdown",
   "id": "a89953b8",
   "metadata": {},
   "source": [
    "### Get PDB data from specific row\n",
    "A array of list of `biotite.Atom` will be returned.\n",
    "See more details at [fastpdb](https://github.com/biotite-dev/fastpdb) and [Atom](https://github.com/biotite-dev/biotite/blob/main/src/biotite/structure/atoms.py)."
   ]
  },
  {
   "cell_type": "code",
   "execution_count": null,
   "id": "f2583c8d",
   "metadata": {},
   "outputs": [],
   "source": [
    "dataset.get_data(0, \"pdb\")"
   ]
  },
  {
   "cell_type": "markdown",
   "id": "5b3c1be6",
   "metadata": {},
   "source": [
    "### Create dataset from multiple PDB files"
   ]
  },
  {
   "cell_type": "code",
   "execution_count": 7,
   "id": "5647c8ff",
   "metadata": {},
   "outputs": [
    {
     "name": "stdout",
     "output_type": "stream",
     "text": [
      "['/Users/lu.zhu/Library/Caches/polaris-tutorials/002/1l2y.pdb', '/Users/lu.zhu/Library/Caches/polaris-tutorials/002/4i23.pdb']\n"
     ]
    }
   ],
   "source": [
    "pdb_paths = rcsb.fetch([\"1l2y\", \"4i23\"], \"pdb\", SAVE_DIR)\n",
    "print(pdb_paths)"
   ]
  },
  {
   "cell_type": "code",
   "execution_count": 8,
   "id": "1bd32964",
   "metadata": {},
   "outputs": [],
   "source": [
    "factory = DatasetFactory(SAVE_DIR.join(\"pdbs.zarr\"))\n",
    "\n",
    "converter = PDBConverter()\n",
    "factory.register_converter(\"pdb\", converter)\n",
    "\n",
    "factory.add_from_files(pdb_paths, axis=0)\n",
    "dataset = factory.build()"
   ]
  },
  {
   "cell_type": "code",
   "execution_count": 9,
   "id": "1e05109e",
   "metadata": {},
   "outputs": [
    {
     "data": {
      "text/html": [
       "<div>\n",
       "<style scoped>\n",
       "    .dataframe tbody tr th:only-of-type {\n",
       "        vertical-align: middle;\n",
       "    }\n",
       "\n",
       "    .dataframe tbody tr th {\n",
       "        vertical-align: top;\n",
       "    }\n",
       "\n",
       "    .dataframe thead th {\n",
       "        text-align: right;\n",
       "    }\n",
       "</style>\n",
       "<table border=\"1\" class=\"dataframe\">\n",
       "  <thead>\n",
       "    <tr style=\"text-align: right;\">\n",
       "      <th></th>\n",
       "      <th>pdb</th>\n",
       "    </tr>\n",
       "  </thead>\n",
       "  <tbody>\n",
       "    <tr>\n",
       "      <th>0</th>\n",
       "      <td>pdb/1l2y</td>\n",
       "    </tr>\n",
       "    <tr>\n",
       "      <th>1</th>\n",
       "      <td>pdb/4i23</td>\n",
       "    </tr>\n",
       "  </tbody>\n",
       "</table>\n",
       "</div>"
      ],
      "text/plain": [
       "        pdb\n",
       "0  pdb/1l2y\n",
       "1  pdb/4i23"
      ]
     },
     "execution_count": 9,
     "metadata": {},
     "output_type": "execute_result"
    }
   ],
   "source": [
    "dataset.table"
   ]
  },
  {
   "cell_type": "code",
   "execution_count": null,
   "id": "a064942f",
   "metadata": {},
   "outputs": [],
   "source": [
    "dataset.get_data(1, \"pdb\")"
   ]
  },
  {
   "cell_type": "markdown",
   "id": "72767ef2",
   "metadata": {
    "editable": true,
    "slideshow": {
     "slide_type": ""
    },
    "tags": []
   },
   "source": [
    "The process of completing the dataset's metadata and uploading it to the hub follows the same steps as outlined in the tutorial [dataset_zarr.ipynb](docs/tutorials/dataset_zarr.ipynb)\n",
    "\n",
    "The End. "
   ]
  }
 ],
 "metadata": {
  "kernelspec": {
   "display_name": "Python 3 (ipykernel)",
   "language": "python",
   "name": "python3"
  },
  "language_info": {
   "codemirror_mode": {
    "name": "ipython",
    "version": 3
   },
   "file_extension": ".py",
   "mimetype": "text/x-python",
   "name": "python",
   "nbconvert_exporter": "python",
   "pygments_lexer": "ipython3",
   "version": "3.12.2"
  }
 },
 "nbformat": 4,
 "nbformat_minor": 5
}
