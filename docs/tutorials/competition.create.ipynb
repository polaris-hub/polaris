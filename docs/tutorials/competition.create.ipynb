{
 "cells": [
  {
   "cell_type": "markdown",
   "id": "40f99374-b47e-4f84-bdb9-148a11f9c07d",
   "metadata": {
    "editable": true,
    "slideshow": {
     "slide_type": ""
    },
    "tags": []
   },
   "source": [
    "# Creating a Competition\n",
    "\n",
    "<div class=\"admonition abstract highlight\">\n",
    "    <p class=\"admonition-title\">In short</p>\n",
    "    <p>This tutorial walks you through how to prepare, submit and launch your first competition on Polaris. It spans steps across the Polaris client and web application.</p>\n",
    "</div>\n",
    "\n",
    "<div class=\"admonition info highlight\">\n",
    "    <p class=\"admonition-title\">Note</p>\n",
    "    <p>Competitions on Polaris do not currently support datasets with pointer columns.</p>\n",
    "</div>\n",
    "\n",
    "Competitions on Polaris build upon much of the structure already defined in core concepts of the Polaris platform. They are an extension of core datasets and benchmarks with the added certainty that prediction evaluation is secure and fair.\n",
    "\n",
    "Creating a competition is a two-step process where you will specify a `CompetitionDataset` and `CompetitionSpecification` object that define almost everything about your competition. Before we walk through that, let's ensure we are logged into Polaris."
   ]
  },
  {
   "cell_type": "code",
   "execution_count": 8,
   "id": "3d66f466",
   "metadata": {
    "editable": true,
    "slideshow": {
     "slide_type": ""
    },
    "tags": [
     "remove_cell"
    ]
   },
   "outputs": [],
   "source": [
    "# Note: Cell is tagged to not show up in the mkdocs build\n",
    "%load_ext autoreload\n",
    "%autoreload 2"
   ]
  },
  {
   "cell_type": "code",
   "execution_count": 13,
   "id": "9b465ea4-7c71-443b-9908-3f9e567ee4c4",
   "metadata": {},
   "outputs": [
    {
     "name": "stderr",
     "output_type": "stream",
     "text": [
      "\u001b[32m2024-08-09 18:05:23.205\u001b[0m | \u001b[32m\u001b[1mSUCCESS \u001b[0m | \u001b[36mpolaris.hub.client\u001b[0m:\u001b[36mlogin\u001b[0m:\u001b[36m267\u001b[0m - \u001b[32m\u001b[1mYou are successfully logged in to the Polaris Hub.\u001b[0m\n"
     ]
    }
   ],
   "source": [
    "from polaris.hub.client import PolarisHubClient\n",
    "\n",
    "# Don't forget to add your Polaris Hub username below!\n",
    "MY_POLARIS_USERNAME = \"\"\n",
    "\n",
    "client = PolarisHubClient()\n",
    "client.login()"
   ]
  },
  {
   "cell_type": "markdown",
   "id": "5edee39f-ce29-4ae6-91ce-453d9190541b",
   "metadata": {},
   "source": [
    "## Preparing a Competition\n",
    "\n",
    "#### Defining a `CompetitionDataset`\n",
    "The `CompetitionDataset` class will define everything about the dataset which underlies your competition. It is here where you provide the complete dataset and associated metadata. We will work with a small example for the purpose of this tutorial. "
   ]
  },
  {
   "cell_type": "code",
   "execution_count": 10,
   "id": "4e004589-6c48-4232-b353-b1700536dde6",
   "metadata": {},
   "outputs": [],
   "source": [
    "import pandas as pd\n",
    "from polaris.dataset import CompetitionDataset, ColumnAnnotation\n",
    "from polaris.utils.types import HubOwner\n",
    "\n",
    "# Using example data\n",
    "data_source = {\n",
    "    'Feature': ['1', '1', '3', '4'],\n",
    "    'Labels': ['class1', 'class1', 'class3', 'class4']\n",
    "}\n",
    "\n",
    "# The `CompetitionDataset` class expects a Pandas DataFrame or a path to a local\n",
    "# parquet file. Here, we create a Pandas DataFrame from the example data above.\n",
    "table = pd.DataFrame(data_source)\n",
    "\n",
    "# Defining some additional column annotations to better describe our dataset. This\n",
    "# will be visible on the Polaris web application when you upload your competition. \n",
    "annotations = {\n",
    "    \"Feature\": ColumnAnnotation(\n",
    "        description=\"A random feature column.\",\n",
    "    ),\n",
    "    \"Labels\": ColumnAnnotation(\n",
    "        description=\"A random label column.\",\n",
    "    ),\n",
    "}\n",
    "\n",
    "dataset = CompetitionDataset(\n",
    "    table=table,\n",
    "    name=\"hello-world-competition-dataset\",\n",
    "    description=\"Creating my first competition.\",\n",
    "    annotations=annotations,\n",
    "    tags=[\"hello-world\"],\n",
    "    owner=HubOwner(slug=MY_POLARIS_USERNAME),\n",
    "    license=\"CC-BY-4.0\",\n",
    "    user_attributes={\"year\": \"2024\"},\n",
    ")"
   ]
  },
  {
   "cell_type": "markdown",
   "id": "1ce8e0e5-88c8-4d3b-9292-e75c97315833",
   "metadata": {},
   "source": [
    "#### Defining a `CompetitionSpecification`\n",
    "The `CompetitionSpecification` class wraps the `CompetitionDataset` class you just created in additional metadata that defines the challenge associated with your competition benchmark. Here, you will define things like the competition split, the target columns, and more."
   ]
  },
  {
   "cell_type": "code",
   "execution_count": 11,
   "id": "b55195cd-84da-4cd9-951b-c148265b303c",
   "metadata": {},
   "outputs": [],
   "source": [
    "from polaris.competition import CompetitionSpecification\n",
    "\n",
    "split = ([0, 1, 2], [3])  # train, test\n",
    "\n",
    "competition = CompetitionSpecification(\n",
    "    name=\"hello-world-competition\",\n",
    "    dataset=dataset,\n",
    "    owner=HubOwner(slug=MY_POLARIS_USERNAME),\n",
    "    target_cols=[\"Labels\"],\n",
    "    input_cols=\"Feature\",\n",
    "    split=split,\n",
    "    metrics=\"mean_absolute_error\",\n",
    ")"
   ]
  },
  {
   "cell_type": "markdown",
   "id": "c14e189c",
   "metadata": {},
   "source": [
    "Almost there! You've now defined everything that is needed to prepare your competition for submission to the Polaris Hub. Let's run one final command to submit our competition to Polaris. Don't worry, it will remain private until you decide to launch it."
   ]
  },
  {
   "cell_type": "code",
   "execution_count": 14,
   "id": "43cbe460",
   "metadata": {},
   "outputs": [],
   "source": [
    "competition.upload_to_hub()\n",
    "\n",
    "client.close()"
   ]
  },
  {
   "cell_type": "markdown",
   "id": "d5fa35c5-e2d0-4d75-a2cb-75b4749d91ef",
   "metadata": {},
   "source": [
    "## Launching Your Competition\n",
    "\n",
    "Once you've uploaded your competition to the Polaris Hub, you need to complete some final steps to launch your competition and make it public. This step occurs through the [Polaris web application](https://polarishub.io).\n",
    "- Navigate to your Profile page\n",
    "    - Click your user icon on the top right of the page \n",
    "    - Select the \"My Profile\" option\n",
    "- Scroll down to the artifact catalog with the header \"Competitions\".\n",
    "- Select the competition tile with the name `YOUR_USERNAME/hello-world-competition`\n",
    "- Click the `Launch Competition` button on the left side of your screen\n",
    "- Fill in the remaining data needed to launch your competition\n",
    "    - The start and end dates\n",
    "    - The start time (on the selected start date)\n",
    "    - The end time (on the selected end date)\n",
    "    - Optionally, the number of submissions each user can make per day\n",
    "- Lastly, click the `Launch Competition` button"
   ]
  },
  {
   "cell_type": "markdown",
   "id": "78fe8d63",
   "metadata": {},
   "source": [
    "That's it! You've now prepared, submitted and launched your first Polaris competition. Before we wrap up, we just wanted to bring one thing to your attention that could be useful _after_ your competition has completed."
   ]
  },
  {
   "cell_type": "markdown",
   "id": "244fdff1",
   "metadata": {},
   "source": [
    "## Converting Your Competition Dataset to a Standard Dataset\n",
    "After your competition has ended, other users will be unable to interact with the dataset that was underlying your competition. You may want this in some scenarios, but you may also want to release the dataset publicly afterwards as well.\n",
    "\n",
    "To facilitate the latter, Polaris will provide you with the option of converting your dataset from a competition to a standard dataset that is publicly accessible on Polaris. It should be noted that Polaris will automatically make two modifications to your original dataset:\n",
    "- Add a new column named `is_train` which specifies whether a row was in the competition's test set or not\n",
    "- Generates a name for your standard dataset in the form of `comp-COMPETITION_NAME`"
   ]
  },
  {
   "cell_type": "markdown",
   "id": "886d9571",
   "metadata": {},
   "source": []
  },
  {
   "cell_type": "markdown",
   "id": "c780a3a7",
   "metadata": {},
   "source": [
    "That brings us to the end of this tutorial! In the next one, we will show you how to participate in an active competition. \n",
    "\n",
    "The End.\n",
    "\n",
    "---"
   ]
  }
 ],
 "metadata": {
  "kernelspec": {
   "display_name": "Python 3 (ipykernel)",
   "language": "python",
   "name": "python3"
  },
  "language_info": {
   "codemirror_mode": {
    "name": "ipython",
    "version": 3
   },
   "file_extension": ".py",
   "mimetype": "text/x-python",
   "name": "python",
   "nbconvert_exporter": "python",
   "pygments_lexer": "ipython3",
   "version": "3.12.2"
  }
 },
 "nbformat": 4,
 "nbformat_minor": 5
}
