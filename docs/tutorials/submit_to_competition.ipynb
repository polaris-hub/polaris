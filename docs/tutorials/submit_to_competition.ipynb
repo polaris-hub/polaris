{
 "cells": [
  {
   "cell_type": "markdown",
   "id": "40f99374-b47e-4f84-bdb9-148a11f9c07d",
   "metadata": {
    "editable": true,
    "slideshow": {
     "slide_type": ""
    },
    "tags": []
   },
   "source": [
    "On Polaris, submitting to a competition is very similar to submitting to a benchmark. \n",
    "\n",
    "The main difference lies in how predictions are prepared and how they are evaluated"
   ]
  },
  {
   "cell_type": "code",
   "execution_count": 8,
   "id": "3d66f466",
   "metadata": {
    "editable": true,
    "slideshow": {
     "slide_type": ""
    },
    "tags": [
     "remove_cell"
    ]
   },
   "outputs": [],
   "source": [
    "# Note: Cell is tagged to not show up in the mkdocs build\n",
    "%load_ext autoreload\n",
    "%autoreload 2"
   ]
  },
  {
   "cell_type": "code",
   "execution_count": null,
   "id": "66cd175c-1f8d-4209-ad78-8d959ea31d9f",
   "metadata": {},
   "outputs": [],
   "source": [
    "import polaris as po"
   ]
  },
  {
   "cell_type": "markdown",
   "id": "84b6d1b9-3ee8-4ff4-9d92-8ed91ffa2f51",
   "metadata": {},
   "source": [
    "## Login\n",
    "As before, we first need to authenticate ourselves using our Polaris account. If you don't have an account yet, you can create one [here](https://polarishub.io/sign-up)."
   ]
  },
  {
   "cell_type": "code",
   "execution_count": null,
   "id": "9b465ea4-7c71-443b-9908-3f9e567ee4c4",
   "metadata": {},
   "outputs": [],
   "source": [
    "from polaris.hub.client import PolarisHubClient\n",
    "\n",
    "with PolarisHubClient() as client:\n",
    "    client.login()"
   ]
  },
  {
   "cell_type": "markdown",
   "id": "5edee39f-ce29-4ae6-91ce-453d9190541b",
   "metadata": {},
   "source": [
    "## Load the Competition\n",
    "As with regular benchmarks, a competition is identified by the `owner/slug` id."
   ]
  },
  {
   "cell_type": "code",
   "execution_count": 10,
   "id": "4e004589-6c48-4232-b353-b1700536dde6",
   "metadata": {},
   "outputs": [],
   "source": [
    "competition = po.load_competition(\"polaris/hello-world-competition\")"
   ]
  },
  {
   "cell_type": "markdown",
   "id": "36f3e829",
   "metadata": {},
   "source": [
    "## The Competition API\n",
    "Similar to the benchmark API, the competition exposes two main API endpoints:\n",
    "\n",
    "- `get_train_test_split()`, which does exactly the same as for benchmarks. \n",
    "- `submit_predictions()`, which is used to submit your predictions to a competition.\n",
    "\n",
    "Note that different from regular benchmarks, competitions don't have an `evaluate()` endpoint. \n",
    "\n",
    "That's because the evaluation happens server side. This gives the competition organizers precise control over how and when the test set and associated results get published, providing a unique opportunity for unbiased evaluation and comparison of different methods.\n",
    "\n",
    "### Submit your _predictions_\n",
    "Similar to your actual results, you can also provide metadata about your predictions."
   ]
  },
  {
   "cell_type": "code",
   "execution_count": null,
   "id": "2b36e09b",
   "metadata": {},
   "outputs": [],
   "source": [
    "competition.submit_predictions(\n",
    "    predictions=predictions,\n",
    "    prediction_name=\"my-first-predictions\",\n",
    "    prediction_owner=\"my-username\",\n",
    "    report_url=\"https://www.example.com\", \n",
    "    # The below metadata is optional, but recommended.\n",
    "    github_url=\"https://github.com/polaris-hub/polaris\",\n",
    "    description=\"Just testing the Polaris API here!\",\n",
    "    tags=[\"tutorial\"],\n",
    "    user_attributes={\"Framework\": \"Scikit-learn\", \"Method\": \"Gradient Boosting\"}\n",
    ")"
   ]
  },
  {
   "cell_type": "markdown",
   "id": "44973556",
   "metadata": {},
   "source": [
    "That's it! Just like that you have partaken in your first Polaris competition. \n",
    "\n",
    "<div class=\"admonition info\">\n",
    "    <p class=\"admonition-title\">Where are my results?</p>\n",
    "    <p>The results will only be published at predetermined intervals, as detailed in the competition details. Keep an eye on that leaderboard when it goes public and best of luck!</p>\n",
    "</div>\n",
    "\n",
    "\n",
    "---\n",
    "\n",
    "The End. "
   ]
  }
 ],
 "metadata": {
  "kernelspec": {
   "display_name": "Python 3 (ipykernel)",
   "language": "python",
   "name": "python3"
  },
  "language_info": {
   "codemirror_mode": {
    "name": "ipython",
    "version": 3
   },
   "file_extension": ".py",
   "mimetype": "text/x-python",
   "name": "python",
   "nbconvert_exporter": "python",
   "pygments_lexer": "ipython3",
   "version": "3.12.8"
  }
 },
 "nbformat": 4,
 "nbformat_minor": 5
}
