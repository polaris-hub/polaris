{
 "cells": [
  {
   "cell_type": "code",
   "execution_count": 1,
   "id": "217690be-9836-4e06-930e-ba7efbb37d91",
   "metadata": {
    "editable": true,
    "slideshow": {
     "slide_type": ""
    },
    "tags": [
     "remove_cell"
    ]
   },
   "outputs": [],
   "source": [
    "# Note: Cell is tagged to not show up in the mkdocs build\n",
    "%load_ext autoreload\n",
    "%autoreload 2"
   ]
  },
  {
   "cell_type": "markdown",
   "id": "39b58e71",
   "metadata": {
    "editable": true,
    "slideshow": {
     "slide_type": ""
    },
    "tags": []
   },
   "source": [
    "<div class=\"admonition abstract highlight\">\n",
    "    <p class=\"admonition-title\">In short</p>\n",
    "    <p>This tutorial shows how to create datasets with more advanced data-modalities through the .zarr format.</p>\n",
    "</div>\n",
    "\n",
    "## Pointer columns\n",
    "\n",
    "Not all data might fit the tabular format, e.g. images or conformers. In that case, we have _pointer_ columns. Pointer columns do not contain the data itself, but rather store a reference to an external file from which the content can be loaded.\n",
    "\n",
    "For now, we only support `.zarr` files as references. To learn more about `.zarr`, visit their documentation. Their [tutorial](https://zarr.readthedocs.io/en/stable/tutorial.html) specifically is a good read to better understand the main features. "
   ]
  },
  {
   "cell_type": "markdown",
   "id": "e154bb54",
   "metadata": {
    "editable": true,
    "slideshow": {
     "slide_type": ""
    },
    "tags": []
   },
   "source": [
    "### Dummy example\n",
    "For the sake of simplicity, let's assume we have just two datapoints. We will use this to demonstrate the idea behind pointer columns. "
   ]
  },
  {
   "cell_type": "code",
   "execution_count": 2,
   "id": "5e201379",
   "metadata": {
    "editable": true,
    "slideshow": {
     "slide_type": ""
    },
    "tags": []
   },
   "outputs": [
    {
     "name": "stderr",
     "output_type": "stream",
     "text": [
      "/mnt/ps/home/CORP/lu.zhu/miniconda3/envs/po_datasets/lib/python3.12/site-packages/tqdm/auto.py:21: TqdmWarning: IProgress not found. Please update jupyter and ipywidgets. See https://ipywidgets.readthedocs.io/en/stable/user_install.html\n",
      "  from .autonotebook import tqdm as notebook_tqdm\n"
     ]
    }
   ],
   "source": [
    "import zarr\n",
    "import platformdirs\n",
    "\n",
    "import numpy as np\n",
    "import datamol as dm\n",
    "import pandas as pd\n",
    "\n",
    "SAVE_DIR = dm.fs.join(platformdirs.user_cache_dir(appname=\"polaris-tutorials\"), \"dataset_zarr\")"
   ]
  },
  {
   "cell_type": "code",
   "execution_count": 3,
   "id": "07442028",
   "metadata": {
    "editable": true,
    "slideshow": {
     "slide_type": ""
    },
    "tags": []
   },
   "outputs": [
    {
     "data": {
      "text/plain": [
       "<zarr.core.Array '/images' (2, 64, 64, 3) float64>"
      ]
     },
     "execution_count": 3,
     "metadata": {},
     "output_type": "execute_result"
    }
   ],
   "source": [
    "# Create two images and save them to a Zarr archive\n",
    "base_path = dm.fs.join(SAVE_DIR, \"data.zarr\")\n",
    "inp_col_name = \"images\"\n",
    "\n",
    "images = np.random.random((2, 64, 64, 3))\n",
    "root = zarr.open(base_path, \"w\")\n",
    "root.array(inp_col_name, images)"
   ]
  },
  {
   "cell_type": "code",
   "execution_count": 4,
   "id": "05712cbd",
   "metadata": {},
   "outputs": [
    {
     "data": {
      "text/plain": [
       "<zarr.hierarchy.Group '/'>"
      ]
     },
     "execution_count": 4,
     "metadata": {},
     "output_type": "execute_result"
    }
   ],
   "source": [
    "# Consolidate the dataset for efficient loading from the cloud bucket\n",
    "zarr.consolidate_metadata(base_path)"
   ]
  },
  {
   "cell_type": "code",
   "execution_count": 5,
   "id": "15df9619-e659-4558-9c69-416a186c1f3a",
   "metadata": {
    "editable": true,
    "slideshow": {
     "slide_type": ""
    },
    "tags": []
   },
   "outputs": [],
   "source": [
    "# For performance reasons, Polaris expects all data related to a column to be saved in a single Zarr array.\n",
    "# To index a specific element in that array, the pointer path can have a suffix to specify the index.\n",
    "train_path = f\"{inp_col_name}#0\"\n",
    "test_path = f\"{inp_col_name}#1\""
   ]
  },
  {
   "cell_type": "code",
   "execution_count": 6,
   "id": "16543db7",
   "metadata": {
    "editable": true,
    "slideshow": {
     "slide_type": ""
    },
    "tags": []
   },
   "outputs": [],
   "source": [
    "tgt_col_name = \"target\"\n",
    "\n",
    "table = pd.DataFrame(\n",
    "    {\n",
    "        inp_col_name: [train_path, test_path],  # Instead of the content, we specify paths\n",
    "        tgt_col_name: np.random.random(2),\n",
    "    }\n",
    ")"
   ]
  },
  {
   "cell_type": "code",
   "execution_count": 7,
   "id": "a257b09d",
   "metadata": {
    "editable": true,
    "slideshow": {
     "slide_type": ""
    },
    "tags": []
   },
   "outputs": [],
   "source": [
    "from polaris.dataset import Dataset, ColumnAnnotation\n",
    "\n",
    "dataset = Dataset(\n",
    "    table=table,\n",
    "    # To indicate that we are dealing with a pointer column here,\n",
    "    # we need to annotate the column.\n",
    "    annotations={\"images\": ColumnAnnotation(is_pointer=True)},\n",
    "    # We also need to specify the path to the root of the Zarr archive\n",
    "    zarr_root_path=base_path,\n",
    ")"
   ]
  },
  {
   "cell_type": "markdown",
   "id": "2524c795",
   "metadata": {
    "editable": true,
    "slideshow": {
     "slide_type": ""
    },
    "tags": []
   },
   "source": [
    "Note how the table does not contain the image data, but rather stores a path relative to the root of the Zarr. "
   ]
  },
  {
   "cell_type": "code",
   "execution_count": 8,
   "id": "19a39fab",
   "metadata": {
    "editable": true,
    "slideshow": {
     "slide_type": ""
    },
    "tags": []
   },
   "outputs": [
    {
     "data": {
      "text/plain": [
       "'images#0'"
      ]
     },
     "execution_count": 8,
     "metadata": {},
     "output_type": "execute_result"
    }
   ],
   "source": [
    "dataset.table.loc[0, \"images\"]"
   ]
  },
  {
   "cell_type": "markdown",
   "id": "5c051877",
   "metadata": {
    "editable": true,
    "slideshow": {
     "slide_type": ""
    },
    "tags": []
   },
   "source": [
    "To load the data that is being pointed to, you can simply use the `Dataset.get_data()` utility method. "
   ]
  },
  {
   "cell_type": "code",
   "execution_count": 9,
   "id": "8189f312",
   "metadata": {
    "editable": true,
    "slideshow": {
     "slide_type": ""
    },
    "tags": []
   },
   "outputs": [
    {
     "data": {
      "text/plain": [
       "(64, 64, 3)"
      ]
     },
     "execution_count": 9,
     "metadata": {},
     "output_type": "execute_result"
    }
   ],
   "source": [
    "dataset.get_data(col=\"images\", row=0).shape"
   ]
  },
  {
   "cell_type": "markdown",
   "id": "17aaff10",
   "metadata": {
    "editable": true,
    "slideshow": {
     "slide_type": ""
    },
    "tags": []
   },
   "source": [
    "Creating a benchmark and the associated `Subset` objects will automatically do so! "
   ]
  },
  {
   "cell_type": "code",
   "execution_count": 10,
   "id": "6f1c8766",
   "metadata": {
    "editable": true,
    "slideshow": {
     "slide_type": ""
    },
    "tags": []
   },
   "outputs": [],
   "source": [
    "from polaris.benchmark import SingleTaskBenchmarkSpecification\n",
    "\n",
    "benchmark = SingleTaskBenchmarkSpecification(\n",
    "    dataset=dataset,\n",
    "    input_cols=inp_col_name,\n",
    "    target_cols=tgt_col_name,\n",
    "    metrics=\"mean_absolute_error\",\n",
    "    split=([0], [1]),\n",
    ")"
   ]
  },
  {
   "cell_type": "code",
   "execution_count": 11,
   "id": "9a0c635c",
   "metadata": {
    "editable": true,
    "slideshow": {
     "slide_type": ""
    },
    "tags": []
   },
   "outputs": [
    {
     "name": "stdout",
     "output_type": "stream",
     "text": [
      "(64, 64, 3)\n"
     ]
    }
   ],
   "source": [
    "train, test = benchmark.get_train_test_split()\n",
    "\n",
    "for x, y in train:\n",
    "    # At this point, the content is loaded from the path specified in the table\n",
    "    print(x.shape)"
   ]
  },
  {
   "cell_type": "markdown",
   "id": "67d2e77d",
   "metadata": {
    "editable": true,
    "slideshow": {
     "slide_type": ""
    },
    "tags": []
   },
   "source": [
    "## Creating datasets from `.zarr` arrays\n",
    "\n",
    "While the above example works, creating the table with all paths from scratch is time-consuming when datasets get large. Instead, you can also automatically parse a Zarr archive into the expected tabular data structure. \n",
    "\n",
    "A Zarr archive can contain groups and arrays, where each group can again contain groups and arrays. Within Polaris, we expect the root to be a flat hierarchy that contains a single array per column.\n"
   ]
  },
  {
   "cell_type": "markdown",
   "id": "d6977165",
   "metadata": {},
   "source": [
    "### A single array for _all_ datapoints \n",
    "\n",
    "Polaris expects a flat zarr hierarchy, with a single array per pointer column: \n",
    "```\n",
    "/\n",
    "  column_a\n",
    "```\n",
    "\n",
    "Which will get parsed into a table like: \n",
    "\n",
    "| column_a          |\n",
    "| ----------------- |\n",
    "| column_a/array#1  |\n",
    "| column_a/array#2  |\n",
    "|       ...         |\n",
    "| column_a/array#N  |\n",
    "\n",
    "<div class=\"admonition info highlight\">\n",
    "    <p class=\"admonition-title\">Note</p>\n",
    "    <p>Notice the # suffix in the path, which indicates the index at which the data-point is stored within the big array. </p>\n",
    "</div>"
   ]
  },
  {
   "cell_type": "code",
   "execution_count": 12,
   "id": "622287ed-16ad-484e-a0d7-ca6cf648ed5d",
   "metadata": {},
   "outputs": [],
   "source": [
    "# Let's first create some dummy dataset with 1000 64x64 \"images\"\n",
    "images = np.random.random((1000, 64, 64, 3))"
   ]
  },
  {
   "cell_type": "code",
   "execution_count": 13,
   "id": "12a06b89",
   "metadata": {},
   "outputs": [],
   "source": [
    "path = dm.fs.join(SAVE_DIR, \"zarr\", \"data.zarr\")\n",
    "\n",
    "with zarr.open(path, \"w\") as root:\n",
    "    root.array(inp_col_name, images)"
   ]
  },
  {
   "cell_type": "markdown",
   "id": "59ddcf4b-6858-45d0-afd2-b396ee0bc498",
   "metadata": {},
   "source": [
    "To create a dataset from a Zarr archive, we can use the convenience function `create_dataset_from_file()`."
   ]
  },
  {
   "cell_type": "code",
   "execution_count": 14,
   "id": "3c7c11ac",
   "metadata": {},
   "outputs": [
    {
     "data": {
      "text/plain": [
       "'images#0'"
      ]
     },
     "execution_count": 14,
     "metadata": {},
     "output_type": "execute_result"
    }
   ],
   "source": [
    "from polaris.dataset import create_dataset_from_file\n",
    "\n",
    "# Because Polaris might restructure the Zarr archive,\n",
    "# we need to specify a location to save the Zarr file to.\n",
    "dataset = create_dataset_from_file(path, zarr_root_path=dm.fs.join(SAVE_DIR, \"zarr\", \"processed.zarr\"))\n",
    "\n",
    "# The path refers to the original zarr directory we created in the above code block\n",
    "dataset.table.iloc[0][inp_col_name]"
   ]
  },
  {
   "cell_type": "code",
   "execution_count": 15,
   "id": "f8d1b42d",
   "metadata": {},
   "outputs": [
    {
     "data": {
      "text/plain": [
       "(64, 64, 3)"
      ]
     },
     "execution_count": 15,
     "metadata": {},
     "output_type": "execute_result"
    }
   ],
   "source": [
    "dataset.get_data(col=inp_col_name, row=0).shape"
   ]
  },
  {
   "cell_type": "markdown",
   "id": "51493c81",
   "metadata": {},
   "source": [
    "## Saving the dataset\n",
    "\n",
    "We can still easily save the dataset. All the pointer columns will be automatically updated. "
   ]
  },
  {
   "cell_type": "code",
   "execution_count": 16,
   "id": "1cd94077",
   "metadata": {},
   "outputs": [
    {
     "name": "stderr",
     "output_type": "stream",
     "text": [
      "\u001b[32m2024-07-21 13:11:49.273\u001b[0m | \u001b[1mINFO    \u001b[0m | \u001b[36mpolaris._mixins\u001b[0m:\u001b[36mmd5sum\u001b[0m:\u001b[36m27\u001b[0m - \u001b[1mComputing the checksum. This can be slow for large datasets.\u001b[0m\n",
      "Finding all files in the Zarr archive:  60%|██████    | 79/131 [00:00<00:00, 375.21it/s]"
     ]
    },
    {
     "name": "stderr",
     "output_type": "stream",
     "text": [
      "Finding all files in the Zarr archive: 100%|██████████| 131/131 [00:00<00:00, 396.17it/s]\n",
      "\u001b[32m2024-07-21 13:11:49.616\u001b[0m | \u001b[1mINFO    \u001b[0m | \u001b[36mpolaris.dataset._dataset\u001b[0m:\u001b[36mto_json\u001b[0m:\u001b[36m431\u001b[0m - \u001b[1mCopying Zarr archive to /mnt/ps/home/CORP/lu.zhu/.cache/polaris-tutorials/002/json/data.zarr. This may take a while.\u001b[0m\n"
     ]
    }
   ],
   "source": [
    "savedir = dm.fs.join(SAVE_DIR, \"json\")\n",
    "json_path = dataset.to_json(savedir)"
   ]
  },
  {
   "cell_type": "code",
   "execution_count": 17,
   "id": "c5147684",
   "metadata": {},
   "outputs": [
    {
     "data": {
      "text/plain": [
       "['/mnt/ps/home/CORP/lu.zhu/.cache/polaris-tutorials/002/json',\n",
       " '/mnt/ps/home/CORP/lu.zhu/.cache/polaris-tutorials/002/data.zarr',\n",
       " '/mnt/ps/home/CORP/lu.zhu/.cache/polaris-tutorials/002/zarr']"
      ]
     },
     "execution_count": 17,
     "metadata": {},
     "output_type": "execute_result"
    }
   ],
   "source": [
    "fs = dm.fs.get_mapper(path).fs\n",
    "fs.ls(SAVE_DIR)"
   ]
  },
  {
   "cell_type": "markdown",
   "id": "b9bf6c19",
   "metadata": {},
   "source": [
    "Besides the `table.parquet` and `dataset.yaml`, we can now also see a `data` folder which stores the content for the additional content from the pointer columns."
   ]
  },
  {
   "cell_type": "markdown",
   "id": "3801c96f",
   "metadata": {},
   "source": [
    "## Load the dataset"
   ]
  },
  {
   "cell_type": "code",
   "execution_count": 18,
   "id": "33c25a55",
   "metadata": {},
   "outputs": [
    {
     "name": "stderr",
     "output_type": "stream",
     "text": [
      "\u001b[32m2024-07-21 13:12:16.485\u001b[0m | \u001b[1mINFO    \u001b[0m | \u001b[36mpolaris._mixins\u001b[0m:\u001b[36mmd5sum\u001b[0m:\u001b[36m27\u001b[0m - \u001b[1mComputing the checksum. This can be slow for large datasets.\u001b[0m\n",
      "Finding all files in the Zarr archive:  17%|█▋        | 22/131 [00:00<00:00, 211.62it/s]"
     ]
    },
    {
     "name": "stderr",
     "output_type": "stream",
     "text": [
      "Finding all files in the Zarr archive: 100%|██████████| 131/131 [00:00<00:00, 246.81it/s]\n"
     ]
    },
    {
     "data": {
      "text/html": [
       "<table border=\"1\"><tr><th>name</th><td>None</td></tr><tr><th>description</th><td></td></tr><tr><th>tags</th><td></td></tr><tr><th>user_attributes</th><td></td></tr><tr><th>owner</th><td>None</td></tr><tr><th>polaris_version</th><td>dev</td></tr><tr><th>default_adapters</th><td></td></tr><tr><th>zarr_root_path</th><td>/mnt/ps/home/CORP/lu.zhu/.cache/polaris-tutorials/002/zarr/processed.zarr</td></tr><tr><th>readme</th><td></td></tr><tr><th>annotations</th><td><table border=\"1\"><tr><th>images</th><td><table border=\"1\"><tr><th>is_pointer</th><td>True</td></tr><tr><th>modality</th><td>UNKNOWN</td></tr><tr><th>description</th><td>None</td></tr><tr><th>user_attributes</th><td></td></tr><tr><th>dtype</th><td>object</td></tr></table></td></tr></table></td></tr><tr><th>source</th><td>None</td></tr><tr><th>license</th><td>None</td></tr><tr><th>curation_reference</th><td>None</td></tr><tr><th>cache_dir</th><td>/mnt/ps/home/CORP/lu.zhu/.cache/polaris/datasets/97d642a2-001c-40aa-ac98-0e24353005d2</td></tr><tr><th>md5sum</th><td>b7c52acfbda1f9bba47ae218e9c4717f</td></tr><tr><th>artifact_id</th><td>None</td></tr><tr><th>n_rows</th><td>1000</td></tr><tr><th>n_columns</th><td>1</td></tr></table>"
      ],
      "text/plain": [
       "{\n",
       "  \"name\": null,\n",
       "  \"description\": \"\",\n",
       "  \"tags\": [],\n",
       "  \"user_attributes\": {},\n",
       "  \"owner\": null,\n",
       "  \"polaris_version\": \"dev\",\n",
       "  \"default_adapters\": {},\n",
       "  \"zarr_root_path\": \"/mnt/ps/home/CORP/lu.zhu/.cache/polaris-tutorials/002/zarr/processed.zarr\",\n",
       "  \"readme\": \"\",\n",
       "  \"annotations\": {\n",
       "    \"images\": {\n",
       "      \"is_pointer\": true,\n",
       "      \"modality\": \"UNKNOWN\",\n",
       "      \"description\": null,\n",
       "      \"user_attributes\": {},\n",
       "      \"dtype\": \"object\"\n",
       "    }\n",
       "  },\n",
       "  \"source\": null,\n",
       "  \"license\": null,\n",
       "  \"curation_reference\": null,\n",
       "  \"cache_dir\": \"/mnt/ps/home/CORP/lu.zhu/.cache/polaris/datasets/97d642a2-001c-40aa-ac98-0e24353005d2\",\n",
       "  \"md5sum\": \"b7c52acfbda1f9bba47ae218e9c4717f\",\n",
       "  \"artifact_id\": null,\n",
       "  \"n_rows\": 1000,\n",
       "  \"n_columns\": 1\n",
       "}"
      ]
     },
     "execution_count": 18,
     "metadata": {},
     "output_type": "execute_result"
    }
   ],
   "source": [
    "Dataset.from_json(json_path)"
   ]
  },
  {
   "cell_type": "markdown",
   "id": "0503a3a7",
   "metadata": {},
   "source": [
    "### Upload zarr dataset to Hub"
   ]
  },
  {
   "cell_type": "code",
   "execution_count": 22,
   "id": "cf0f7e69",
   "metadata": {},
   "outputs": [],
   "source": [
    "# Define the zarr dataset metadata before uploading\n",
    "dataset.name = \"tutorial_zarr\"\n",
    "dataset.license = \"CC-BY-4.0\"\n",
    "dataset.source = \"https://github.com/polaris-hub/polaris\""
   ]
  },
  {
   "cell_type": "code",
   "execution_count": 23,
   "id": "5251b027",
   "metadata": {},
   "outputs": [
    {
     "name": "stdout",
     "output_type": "stream",
     "text": [
      "⠙ Uploading dataset... "
     ]
    },
    {
     "name": "stdout",
     "output_type": "stream",
     "text": [
      "⠦ Uploading dataset... "
     ]
    },
    {
     "name": "stderr",
     "output_type": "stream",
     "text": [
      "\u001b[32m2024-07-21 13:19:12.188\u001b[0m | \u001b[1mINFO    \u001b[0m | \u001b[36mpolaris.hub.client\u001b[0m:\u001b[36mupload_dataset\u001b[0m:\u001b[36m602\u001b[0m - \u001b[1mCopying Zarr archive to the Hub. This may take a while.\u001b[0m\n"
     ]
    },
    {
     "name": "stdout",
     "output_type": "stream",
     "text": [
      "✅ SUCCESS: \u001b[1mYour dataset has been successfully uploaded to the Hub. View it here: https://polarishub.io/datasets/polaris/tutorial_zarr\u001b[0m\n",
      " \n"
     ]
    },
    {
     "name": "stderr",
     "output_type": "stream",
     "text": [
      "/mnt/ps/home/CORP/lu.zhu/miniconda3/envs/po_datasets/lib/python3.12/site-packages/yaspin/core.py:228: UserWarning: color, on_color and attrs are not supported when running in jupyter\n",
      "  self._color = self._set_color(value) if value else value\n"
     ]
    }
   ],
   "source": [
    "dataset.upload_to_hub(owner=\"polaris\")"
   ]
  },
  {
   "cell_type": "markdown",
   "id": "72767ef2",
   "metadata": {
    "editable": true,
    "slideshow": {
     "slide_type": ""
    },
    "tags": []
   },
   "source": [
    "The End. "
   ]
  }
 ],
 "metadata": {
  "kernelspec": {
   "display_name": "Python 3 (ipykernel)",
   "language": "python",
   "name": "python3"
  },
  "language_info": {
   "codemirror_mode": {
    "name": "ipython",
    "version": 3
   },
   "file_extension": ".py",
   "mimetype": "text/x-python",
   "name": "python",
   "nbconvert_exporter": "python",
   "pygments_lexer": "ipython3",
   "version": "3.12.4"
  }
 },
 "nbformat": 4,
 "nbformat_minor": 5
}
