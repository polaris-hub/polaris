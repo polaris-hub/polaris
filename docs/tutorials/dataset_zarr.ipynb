{
 "cells": [
  {
   "cell_type": "code",
   "execution_count": 1,
   "id": "217690be-9836-4e06-930e-ba7efbb37d91",
   "metadata": {
    "editable": true,
    "slideshow": {
     "slide_type": ""
    },
    "tags": [
     "remove_cell"
    ]
   },
   "outputs": [],
   "source": [
    "# Note: Cell is tagged to not show up in the mkdocs build\n",
    "%load_ext autoreload\n",
    "%autoreload 2"
   ]
  },
  {
   "cell_type": "markdown",
   "id": "39b58e71",
   "metadata": {
    "editable": true,
    "slideshow": {
     "slide_type": ""
    },
    "tags": []
   },
   "source": [
    "<div class=\"admonition abstract highlight\">\n",
    "    <p class=\"admonition-title\">In short</p>\n",
    "    <p>This tutorial shows how to create datasets with more advanced data-modalities through the .zarr format.</p>\n",
    "</div>\n",
    "\n",
    "## Pointer columns\n",
    "\n",
    "Not all data might fit the tabular format, e.g. images or conformers. In that case, we have _pointer_ columns. Pointer columns do not contain the data itself, but rather store a reference to an external file from which the content can be loaded.\n",
    "\n",
    "For now, we only support `.zarr` files as references. To learn more about `.zarr`, visit their documentation. Their [tutorial](https://zarr.readthedocs.io/en/stable/tutorial.html) specifically is a good read to better understand the main features. "
   ]
  },
  {
   "cell_type": "markdown",
   "id": "e154bb54",
   "metadata": {
    "editable": true,
    "slideshow": {
     "slide_type": ""
    },
    "tags": []
   },
   "source": [
    "### Dummy example\n",
    "For the sake of simplicity, let's assume we have just two datapoints. We will use this to demonstrate the idea behind pointer columns. "
   ]
  },
  {
   "cell_type": "code",
   "execution_count": 2,
   "id": "5e201379",
   "metadata": {
    "editable": true,
    "slideshow": {
     "slide_type": ""
    },
    "tags": []
   },
   "outputs": [
    {
     "name": "stderr",
     "output_type": "stream",
     "text": [
      "/mnt/ps/home/CORP/lu.zhu/miniconda3/envs/po_datasets/lib/python3.12/site-packages/tqdm/auto.py:21: TqdmWarning: IProgress not found. Please update jupyter and ipywidgets. See https://ipywidgets.readthedocs.io/en/stable/user_install.html\n",
      "  from .autonotebook import tqdm as notebook_tqdm\n"
     ]
    }
   ],
   "source": [
    "import zarr\n",
    "import platformdirs\n",
    "\n",
    "import numpy as np\n",
    "import datamol as dm\n",
    "import pandas as pd\n",
    "\n",
    "SAVE_DIR = dm.fs.join(platformdirs.user_cache_dir(appname=\"polaris-tutorials\"), \"002\")"
   ]
  },
  {
   "cell_type": "code",
   "execution_count": 3,
   "id": "07442028",
   "metadata": {
    "editable": true,
    "slideshow": {
     "slide_type": ""
    },
    "tags": []
   },
   "outputs": [
    {
     "data": {
      "text/plain": [
       "<zarr.core.Array '/images' (2, 64, 64, 3) float64>"
      ]
     },
     "execution_count": 3,
     "metadata": {},
     "output_type": "execute_result"
    }
   ],
   "source": [
    "# Create two images and save them to a Zarr archive\n",
    "base_path = dm.fs.join(SAVE_DIR, \"data.zarr\")\n",
    "inp_col_name = \"images\"\n",
    "\n",
    "images = np.random.random((2, 64, 64, 3))\n",
    "root = zarr.open(base_path, \"w\")\n",
    "root.array(inp_col_name, images)"
   ]
  },
  {
   "cell_type": "code",
   "execution_count": 4,
   "id": "05712cbd",
   "metadata": {},
   "outputs": [
    {
     "data": {
      "text/plain": [
       "<zarr.hierarchy.Group '/'>"
      ]
     },
     "execution_count": 4,
     "metadata": {},
     "output_type": "execute_result"
    }
   ],
   "source": [
    "# consolidate\n",
    "zarr.consolidate_metadata(base_path)"
   ]
  },
  {
   "cell_type": "code",
   "execution_count": 5,
   "id": "15df9619-e659-4558-9c69-416a186c1f3a",
   "metadata": {
    "editable": true,
    "slideshow": {
     "slide_type": ""
    },
    "tags": []
   },
   "outputs": [],
   "source": [
    "# For performance reasons, Polaris expects all data related to a column to be saved in a single Zarr array.\n",
    "# To index a specific element in that array, the pointer path can have a suffix to specify the index.\n",
    "train_path = f\"{inp_col_name}#0\"\n",
    "test_path = f\"{inp_col_name}#1\""
   ]
  },
  {
   "cell_type": "code",
   "execution_count": 6,
   "id": "16543db7",
   "metadata": {
    "editable": true,
    "slideshow": {
     "slide_type": ""
    },
    "tags": []
   },
   "outputs": [],
   "source": [
    "tgt_col_name = \"target\"\n",
    "\n",
    "table = pd.DataFrame(\n",
    "    {\n",
    "        inp_col_name: [train_path, test_path],  # Instead of the content, we specify paths\n",
    "        tgt_col_name: np.random.random(2),\n",
    "    }\n",
    ")"
   ]
  },
  {
   "cell_type": "code",
   "execution_count": 7,
   "id": "a257b09d",
   "metadata": {
    "editable": true,
    "slideshow": {
     "slide_type": ""
    },
    "tags": []
   },
   "outputs": [],
   "source": [
    "from polaris.dataset import Dataset, ColumnAnnotation\n",
    "\n",
    "dataset = Dataset(\n",
    "    table=table,\n",
    "    # To indicate that we are dealing with a pointer column here,\n",
    "    # we need to annotate the column.\n",
    "    annotations={\"images\": ColumnAnnotation(is_pointer=True)},\n",
    "    # We also need to specify the path to the root of the Zarr archive\n",
    "    zarr_root_path=base_path,\n",
    ")"
   ]
  },
  {
   "cell_type": "markdown",
   "id": "2524c795",
   "metadata": {
    "editable": true,
    "slideshow": {
     "slide_type": ""
    },
    "tags": []
   },
   "source": [
    "Note how the table does not contain the image data, but rather stores a path relative to the root of the Zarr. "
   ]
  },
  {
   "cell_type": "code",
   "execution_count": 8,
   "id": "19a39fab",
   "metadata": {
    "editable": true,
    "slideshow": {
     "slide_type": ""
    },
    "tags": []
   },
   "outputs": [
    {
     "data": {
      "text/plain": [
       "'images#0'"
      ]
     },
     "execution_count": 8,
     "metadata": {},
     "output_type": "execute_result"
    }
   ],
   "source": [
    "dataset.table.loc[0, \"images\"]"
   ]
  },
  {
   "cell_type": "markdown",
   "id": "5c051877",
   "metadata": {
    "editable": true,
    "slideshow": {
     "slide_type": ""
    },
    "tags": []
   },
   "source": [
    "To load the data that is being pointed to, you can simply use the `Dataset.get_data()` utility method. "
   ]
  },
  {
   "cell_type": "code",
   "execution_count": 9,
   "id": "8189f312",
   "metadata": {
    "editable": true,
    "slideshow": {
     "slide_type": ""
    },
    "tags": []
   },
   "outputs": [
    {
     "data": {
      "text/plain": [
       "(64, 64, 3)"
      ]
     },
     "execution_count": 9,
     "metadata": {},
     "output_type": "execute_result"
    }
   ],
   "source": [
    "dataset.get_data(col=\"images\", row=0).shape"
   ]
  },
  {
   "cell_type": "markdown",
   "id": "17aaff10",
   "metadata": {
    "editable": true,
    "slideshow": {
     "slide_type": ""
    },
    "tags": []
   },
   "source": [
    "Creating a benchmark and the associated `Subset` objects will automatically do so! "
   ]
  },
  {
   "cell_type": "code",
   "execution_count": 10,
   "id": "6f1c8766",
   "metadata": {
    "editable": true,
    "slideshow": {
     "slide_type": ""
    },
    "tags": []
   },
   "outputs": [],
   "source": [
    "from polaris.benchmark import SingleTaskBenchmarkSpecification\n",
    "\n",
    "benchmark = SingleTaskBenchmarkSpecification(\n",
    "    dataset=dataset,\n",
    "    input_cols=inp_col_name,\n",
    "    target_cols=tgt_col_name,\n",
    "    metrics=\"mean_absolute_error\",\n",
    "    split=([0], [1]),\n",
    ")"
   ]
  },
  {
   "cell_type": "code",
   "execution_count": 11,
   "id": "9a0c635c",
   "metadata": {
    "editable": true,
    "slideshow": {
     "slide_type": ""
    },
    "tags": []
   },
   "outputs": [
    {
     "name": "stdout",
     "output_type": "stream",
     "text": [
      "(64, 64, 3)\n"
     ]
    }
   ],
   "source": [
    "train, test = benchmark.get_train_test_split()\n",
    "\n",
    "for x, y in train:\n",
    "    # At this point, the content is loaded from the path specified in the table\n",
    "    print(x.shape)"
   ]
  },
  {
   "cell_type": "markdown",
   "id": "67d2e77d",
   "metadata": {
    "editable": true,
    "slideshow": {
     "slide_type": ""
    },
    "tags": []
   },
   "source": [
    "## Creating datasets from `.zarr` arrays\n",
    "\n",
    "While the above example works, creating the table with all paths from scratch is time-consuming when datasets get large. Instead, you can also automatically parse a Zarr archive into the expected tabular data structure. \n",
    "\n",
    "A Zarr archive can contain groups and arrays, where each group can again contain groups and arrays. Within Polaris, we expect the root to be a flat hierarchy that contains a single array per column.\n"
   ]
  },
  {
   "cell_type": "markdown",
   "id": "d6977165",
   "metadata": {},
   "source": [
    "### A single array for _all_ datapoints \n",
    "\n",
    "Polaris expects a flat zarr hierarchy, with a single array per pointer column: \n",
    "```\n",
    "/\n",
    "  column_a\n",
    "```\n",
    "\n",
    "Which will get parsed into a table like: \n",
    "\n",
    "| column_a          |\n",
    "| ----------------- |\n",
    "| column_a/array#1  |\n",
    "| column_a/array#2  |\n",
    "|       ...         |\n",
    "| column_a/array#N  |\n",
    "\n",
    "<div class=\"admonition info highlight\">\n",
    "    <p class=\"admonition-title\">Note</p>\n",
    "    <p>Notice the # suffix in the path, which indicates the index at which the data-point is stored within the big array. </p>\n",
    "</div>"
   ]
  },
  {
   "cell_type": "code",
   "execution_count": 12,
   "id": "622287ed-16ad-484e-a0d7-ca6cf648ed5d",
   "metadata": {},
   "outputs": [],
   "source": [
    "# Let's first create some dummy dataset with 1000 64x64 \"images\"\n",
    "images = np.random.random((1000, 64, 64, 3))"
   ]
  },
  {
   "cell_type": "code",
   "execution_count": 13,
   "id": "12a06b89",
   "metadata": {},
   "outputs": [],
   "source": [
    "path = dm.fs.join(SAVE_DIR, \"zarr\", \"data.zarr\")\n",
    "\n",
    "with zarr.open(path, \"w\") as root:\n",
    "    root.array(inp_col_name, images)"
   ]
  },
  {
   "cell_type": "markdown",
   "id": "59ddcf4b-6858-45d0-afd2-b396ee0bc498",
   "metadata": {},
   "source": [
    "To create a dataset from a Zarr archive, we can use the convenience function `create_dataset_from_file()`."
   ]
  },
  {
   "cell_type": "code",
   "execution_count": 14,
   "id": "3c7c11ac",
   "metadata": {},
   "outputs": [
    {
     "data": {
      "text/plain": [
       "'images#0'"
      ]
     },
     "execution_count": 14,
     "metadata": {},
     "output_type": "execute_result"
    }
   ],
   "source": [
    "from polaris.dataset import create_dataset_from_file\n",
    "\n",
    "# Because Polaris might restructure the Zarr archive,\n",
    "# we need to specify a location to save the Zarr file to.\n",
    "dataset = create_dataset_from_file(path, zarr_root_path=dm.fs.join(SAVE_DIR, \"zarr\", \"processed.zarr\"))\n",
    "\n",
    "# The path refers to the original zarr directory we created in the above code block\n",
    "dataset.table.iloc[0][inp_col_name]"
   ]
  },
  {
   "cell_type": "code",
   "execution_count": 15,
   "id": "f8d1b42d",
   "metadata": {},
   "outputs": [
    {
     "data": {
      "text/plain": [
       "(64, 64, 3)"
      ]
     },
     "execution_count": 15,
     "metadata": {},
     "output_type": "execute_result"
    }
   ],
   "source": [
    "dataset.get_data(col=inp_col_name, row=0).shape"
   ]
  },
  {
   "cell_type": "markdown",
   "id": "51493c81",
   "metadata": {},
   "source": [
    "## Saving the dataset\n",
    "\n",
    "We can still easily save the dataset. All the pointer columns will be automatically updated. "
   ]
  },
  {
   "cell_type": "code",
   "execution_count": 16,
   "id": "1cd94077",
   "metadata": {},
   "outputs": [
    {
     "name": "stderr",
     "output_type": "stream",
     "text": [
      "\u001b[32m2024-07-21 01:45:05.451\u001b[0m | \u001b[1mINFO    \u001b[0m | \u001b[36mpolaris._mixins\u001b[0m:\u001b[36mmd5sum\u001b[0m:\u001b[36m27\u001b[0m - \u001b[1mComputing the checksum. This can be slow for large datasets.\u001b[0m\n",
      "Finding all files in the Zarr archive:   0%|          | 0/131 [00:00<?, ?it/s]"
     ]
    },
    {
     "name": "stderr",
     "output_type": "stream",
     "text": [
      "Finding all files in the Zarr archive: 100%|██████████| 131/131 [00:00<00:00, 270.89it/s]\n",
      "\u001b[32m2024-07-21 01:45:05.952\u001b[0m | \u001b[1mINFO    \u001b[0m | \u001b[36mpolaris.dataset._dataset\u001b[0m:\u001b[36mto_json\u001b[0m:\u001b[36m426\u001b[0m - \u001b[1mCopying Zarr archive to /mnt/ps/home/CORP/lu.zhu/.cache/polaris-tutorials/002/json/data.zarr. This may take a while.\u001b[0m\n"
     ]
    }
   ],
   "source": [
    "savedir = dm.fs.join(SAVE_DIR, \"json\")\n",
    "json_path = dataset.to_json(savedir)"
   ]
  },
  {
   "cell_type": "code",
   "execution_count": null,
   "id": "c5147684",
   "metadata": {},
   "outputs": [],
   "source": [
    "fs = dm.fs.get_mapper(path).fs\n",
    "fs.ls(SAVE_DIR)"
   ]
  },
  {
   "cell_type": "markdown",
   "id": "b9bf6c19",
   "metadata": {},
   "source": [
    "Besides the `table.parquet` and `dataset.yaml`, we can now also see a `data` folder which stores the content for the additional content from the pointer columns."
   ]
  },
  {
   "cell_type": "markdown",
   "id": "3801c96f",
   "metadata": {},
   "source": [
    "## Load the dataset"
   ]
  },
  {
   "cell_type": "code",
   "execution_count": 18,
   "id": "33c25a55",
   "metadata": {},
   "outputs": [
    {
     "name": "stderr",
     "output_type": "stream",
     "text": [
      "\u001b[32m2024-07-21 01:45:21.629\u001b[0m | \u001b[1mINFO    \u001b[0m | \u001b[36mpolaris._mixins\u001b[0m:\u001b[36mmd5sum\u001b[0m:\u001b[36m27\u001b[0m - \u001b[1mComputing the checksum. This can be slow for large datasets.\u001b[0m\n",
      "Finding all files in the Zarr archive:   0%|          | 0/131 [00:00<?, ?it/s]"
     ]
    },
    {
     "name": "stderr",
     "output_type": "stream",
     "text": [
      "Finding all files in the Zarr archive: 100%|██████████| 131/131 [00:00<00:00, 252.96it/s]\n"
     ]
    },
    {
     "data": {
      "text/html": [
       "<table border=\"1\"><tr><th>name</th><td>None</td></tr><tr><th>description</th><td></td></tr><tr><th>tags</th><td></td></tr><tr><th>user_attributes</th><td></td></tr><tr><th>owner</th><td>None</td></tr><tr><th>polaris_version</th><td>dev</td></tr><tr><th>default_adapters</th><td></td></tr><tr><th>zarr_root_path</th><td>/mnt/ps/home/CORP/lu.zhu/.cache/polaris-tutorials/002/zarr/processed.zarr</td></tr><tr><th>readme</th><td></td></tr><tr><th>annotations</th><td><table border=\"1\"><tr><th>images</th><td><table border=\"1\"><tr><th>is_pointer</th><td>True</td></tr><tr><th>modality</th><td>UNKNOWN</td></tr><tr><th>description</th><td>None</td></tr><tr><th>user_attributes</th><td></td></tr><tr><th>dtype</th><td>object</td></tr></table></td></tr></table></td></tr><tr><th>source</th><td>None</td></tr><tr><th>license</th><td>None</td></tr><tr><th>curation_reference</th><td>None</td></tr><tr><th>cache_dir</th><td>/mnt/ps/home/CORP/lu.zhu/.cache/polaris/datasets/359ed002-48b1-4de7-a3df-83496a00bd6d</td></tr><tr><th>md5sum</th><td>ca4766d15dce67159a7f15b239215ca3</td></tr><tr><th>artifact_id</th><td>None</td></tr><tr><th>zarr_md5sum_manifest</th><td><table border=\"1\"><thead><tr><th>path</th><th>md5sum</th><th>size</th></tr></thead><tbody><tr><td>.zgroup</td><td>e20297935e73dd0154104d4ea53040ab</td><td>24</td></tr><tr><td>.zmetadata</td><td>a044a50b6c0e5548b0dc7df18947379d</td><td>736</td></tr><tr><td>images/.zarray</td><td>dc17c5e9998b27bb705a75ad33cb909a</td><td>386</td></tr><tr><td>images/0.0.0.0</td><td>c7d90c5bcfe8db29f7117f26eacc02d5</td><td>896585</td></tr><tr><td>images/0.0.0.1</td><td>a99677c8849c9b372b1b5ac225676c88</td><td>887100</td></tr><tr><td>images/0.0.1.0</td><td>b2fdcf48167d167071f2275a0932f1b5</td><td>896573</td></tr><tr><td>images/0.0.1.1</td><td>f9465617ff41934c559ff229ae7a25c1</td><td>886885</td></tr><tr><td>images/0.0.2.0</td><td>208bded7d07b3bbf3d7403fdc68594c1</td><td>896591</td></tr><tr><td>images/0.0.2.1</td><td>740f3cb027d289fb13b9371df510de9d</td><td>886831</td></tr><tr><td>images/0.0.3.0</td><td>3a922739a6a404f4124b4a8698eb3775</td><td>896576</td></tr><tr><td>images/0.0.3.1</td><td>97c32de6051a4b34d5835f07c46c1b48</td><td>887198</td></tr><tr><td>images/0.1.0.0</td><td>d16a08610a67f79d5536e56a4e1cce85</td><td>896576</td></tr><tr><td>images/0.1.0.1</td><td>95c50d28dad41849339c72749fff47e6</td><td>886739</td></tr><tr><td>images/0.1.1.0</td><td>47a9d07c956a513d52de739f918633c5</td><td>896591</td></tr><tr><td>images/0.1.1.1</td><td>425c363aefc7a2ea30904ff71c23533b</td><td>886831</td></tr><tr><td>images/0.1.2.0</td><td>b4f690ef587de25767003647e0df1043</td><td>896590</td></tr><tr><td>images/0.1.2.1</td><td>0eae1e2d389c7758d50b1d14b6a892f6</td><td>887072</td></tr><tr><td>images/0.1.3.0</td><td>88ee357e3e19f8c2ab6e26a084405b95</td><td>896591</td></tr><tr><td>images/0.1.3.1</td><td>7df80f5c40676dbf5763b75360800cdb</td><td>887221</td></tr><tr><td>images/0.2.0.0</td><td>2535c0398749e784ca4cd8ec8e9e6852</td><td>896564</td></tr><tr><td>images/0.2.0.1</td><td>180675637d84bb237c87b1caae384a4b</td><td>887093</td></tr><tr><td>images/0.2.1.0</td><td>99301544fe15b3c503de549edb78597a</td><td>896586</td></tr><tr><td>images/0.2.1.1</td><td>5b007a4b863be52d2d507aca35a39e62</td><td>887114</td></tr><tr><td>images/0.2.2.0</td><td>9563c95e266dfa70a33f43692a2ec77b</td><td>896583</td></tr><tr><td>images/0.2.2.1</td><td>ebd9aef6bde85ac1a554332e53512a71</td><td>887189</td></tr><tr><td>images/0.2.3.0</td><td>6856d28761a759a3c257073315f4c635</td><td>896586</td></tr><tr><td>images/0.2.3.1</td><td>26b26d3cd91dacc4858d99340c54fa20</td><td>887048</td></tr><tr><td>images/0.3.0.0</td><td>0843993eba6130bf4e0b5c90f783c53d</td><td>896570</td></tr><tr><td>images/0.3.0.1</td><td>09859b1c1e5bcd2da8633f9ca9b41fff</td><td>887046</td></tr><tr><td>images/0.3.1.0</td><td>d8ae37310b81bed5f2c239e6bc3f4c57</td><td>896594</td></tr><tr><td>images/0.3.1.1</td><td>ce34e6b3afe501baf5440519d0ed4988</td><td>887081</td></tr><tr><td>images/0.3.2.0</td><td>c904a7badc74455a35f38bd1c0425dc6</td><td>896594</td></tr><tr><td>images/0.3.2.1</td><td>09af7e789d251a3d5eeeab5a522dbc63</td><td>886916</td></tr><tr><td>images/0.3.3.0</td><td>fb96c28a653d41732eaedbe635702a35</td><td>896576</td></tr><tr><td>images/0.3.3.1</td><td>625839b8b84feefaa16bf2cddd78e865</td><td>886667</td></tr><tr><td>images/1.0.0.0</td><td>5f737a1518cb83bdb2d9ade7ca0f3170</td><td>896575</td></tr><tr><td>images/1.0.0.1</td><td>1eb188886b7aae89eee540c60c29210c</td><td>886871</td></tr><tr><td>images/1.0.1.0</td><td>a5db9c84c07a9b524a03594f0e789b73</td><td>896595</td></tr><tr><td>images/1.0.1.1</td><td>946eccd8c4fdb48126d5690d0aefd4af</td><td>886914</td></tr><tr><td>images/1.0.2.0</td><td>fc58a7b272d637c9eba6707123ef99dd</td><td>896608</td></tr><tr><td>images/1.0.2.1</td><td>ec4191e157a018dbe72cea8214b9e80b</td><td>887098</td></tr><tr><td>images/1.0.3.0</td><td>fe24ccf015e4e7f2e92363fa83b77da0</td><td>896574</td></tr><tr><td>images/1.0.3.1</td><td>5fc20fc646cd6cd5ebb13f1aff069026</td><td>887027</td></tr><tr><td>images/1.1.0.0</td><td>4cdb1d841b155fd290b1ca2e0c2c98ec</td><td>896576</td></tr><tr><td>images/1.1.0.1</td><td>d54479638b21ebfcf3a8cc0567f98440</td><td>886864</td></tr><tr><td>images/1.1.1.0</td><td>fb252aed752105789734f3c06b8f533f</td><td>896583</td></tr><tr><td>images/1.1.1.1</td><td>b45ce24e206772be843eb1740099bbb2</td><td>887263</td></tr><tr><td>images/1.1.2.0</td><td>a238cb60af155e644afff459a905d2c4</td><td>896583</td></tr><tr><td>images/1.1.2.1</td><td>5c42045653c1b75b166349ed1a080b53</td><td>887207</td></tr><tr><td>images/1.1.3.0</td><td>1ed6187ba0ff30d5ebf42c79a469da5e</td><td>896573</td></tr><tr><td>images/1.1.3.1</td><td>9822fbf39680378a811f67132addbda6</td><td>886936</td></tr><tr><td>images/1.2.0.0</td><td>31ff3d070a236a6fa933aaac1502299b</td><td>896584</td></tr><tr><td>images/1.2.0.1</td><td>c877ab0d2970e9879aa27ded983ada64</td><td>886954</td></tr><tr><td>images/1.2.1.0</td><td>0c3324d2163a5fbac636b3fcf0757257</td><td>896585</td></tr><tr><td>images/1.2.1.1</td><td>9e4fb9abbd6c2bf7e564dbeec67a9ace</td><td>886960</td></tr><tr><td>images/1.2.2.0</td><td>98d2e55123e31d648acd94310b889157</td><td>896570</td></tr><tr><td>images/1.2.2.1</td><td>b931b588a02eea1a83cb3214b929690b</td><td>886820</td></tr><tr><td>images/1.2.3.0</td><td>6d2fed81183aab58bca8039c7436b9ba</td><td>896591</td></tr><tr><td>images/1.2.3.1</td><td>d01e08cb5ab76cd80feb55495d094761</td><td>887092</td></tr><tr><td>images/1.3.0.0</td><td>e3c4fc1d6ed28bb6a763935ec76dda9f</td><td>896590</td></tr><tr><td>images/1.3.0.1</td><td>b1b482ef34c51c4fe6dc710d636d98b8</td><td>886910</td></tr><tr><td>images/1.3.1.0</td><td>680707948aadedcd42457675826f7a4e</td><td>896594</td></tr><tr><td>images/1.3.1.1</td><td>c582ea9309589000dde1d68e69ecd2fe</td><td>886798</td></tr><tr><td>images/1.3.2.0</td><td>07abb9d33ba6734e904d44a81a72c0f4</td><td>896578</td></tr><tr><td>images/1.3.2.1</td><td>1d2c8b9e291e7ebd5084a3c3e957a14a</td><td>887114</td></tr><tr><td>images/1.3.3.0</td><td>64203f6b5434cb118098109ba74de4b1</td><td>896600</td></tr><tr><td>images/1.3.3.1</td><td>dfca2e90dfcbeab7b6dfc5e04f4d3bb8</td><td>887252</td></tr><tr><td>images/2.0.0.0</td><td>c29d93d59a8ec4f6750d9d6d18638490</td><td>896578</td></tr><tr><td>images/2.0.0.1</td><td>be43866bd4f65176b6f4792e7f4693c8</td><td>887230</td></tr><tr><td>images/2.0.1.0</td><td>12359d7bd1fc219d94965e2188007bec</td><td>896589</td></tr><tr><td>images/2.0.1.1</td><td>368b62512ede8b35fc119de65c8bb600</td><td>886887</td></tr><tr><td>images/2.0.2.0</td><td>0c5b385314a78c98241e88fd7bd7b05b</td><td>896580</td></tr><tr><td>images/2.0.2.1</td><td>c6dbaa23693fb94b9448a0626760447c</td><td>887001</td></tr><tr><td>images/2.0.3.0</td><td>71bbe738c37aba9a389f947f03483785</td><td>896588</td></tr><tr><td>images/2.0.3.1</td><td>14cf5c01a7610167252f3052fcf509d9</td><td>887137</td></tr><tr><td>images/2.1.0.0</td><td>97e3935490d785ac6eca1be565348f76</td><td>896580</td></tr><tr><td>images/2.1.0.1</td><td>a18d3cf9917a01920fab147d96956ee8</td><td>886809</td></tr><tr><td>images/2.1.1.0</td><td>21deb317eba132fe6f3043e5f3ca1c04</td><td>896580</td></tr><tr><td>images/2.1.1.1</td><td>bb72abfcc7d91843baf430ab1c5498b1</td><td>886823</td></tr><tr><td>images/2.1.2.0</td><td>ceda8fbcf4f89b804c10121ba6f808e8</td><td>896600</td></tr><tr><td>images/2.1.2.1</td><td>4230b5f79a72b30011e1bcff892522c5</td><td>886977</td></tr><tr><td>images/2.1.3.0</td><td>e52c43b9afa8619b98f6d236618fc318</td><td>896586</td></tr><tr><td>images/2.1.3.1</td><td>21796a661fbb1cb0e3c1fa975b066010</td><td>887229</td></tr><tr><td>images/2.2.0.0</td><td>24ca4db81048e89031bfbfa3cf8994c4</td><td>896591</td></tr><tr><td>images/2.2.0.1</td><td>6d8316f9ca50b39c5049cd4db129a59d</td><td>887244</td></tr><tr><td>images/2.2.1.0</td><td>bc743363119acbace0fd4c493b3edef6</td><td>896602</td></tr><tr><td>images/2.2.1.1</td><td>aa1fdd809afd66c4414d702990fc5348</td><td>886847</td></tr><tr><td>images/2.2.2.0</td><td>b377dd283e74885f731d2096b00fb978</td><td>896583</td></tr><tr><td>images/2.2.2.1</td><td>611d6b7616444c4888a0d9e2094dbf40</td><td>887013</td></tr><tr><td>images/2.2.3.0</td><td>871c80b0a3f50c14f72c4fa9ce48011b</td><td>896596</td></tr><tr><td>images/2.2.3.1</td><td>0aa3b4391a5d2a0eef00d3e4f243d31b</td><td>886900</td></tr><tr><td>images/2.3.0.0</td><td>044460f42e0e40a35af73080ec125408</td><td>896570</td></tr><tr><td>images/2.3.0.1</td><td>a165ea4a8e3cb88c102f79e68a51cc71</td><td>886770</td></tr><tr><td>images/2.3.1.0</td><td>131649bb57ebb53540cbac685920bf47</td><td>896606</td></tr><tr><td>images/2.3.1.1</td><td>ffd593af4fcadb31ba15278d9b5315e8</td><td>886677</td></tr><tr><td>images/2.3.2.0</td><td>af98f244098b6485c6eec66af7b6d730</td><td>896589</td></tr><tr><td>images/2.3.2.1</td><td>cff7c385198371a8689f273db5884c95</td><td>887457</td></tr><tr><td>images/2.3.3.0</td><td>517d81d4ff76e14a24ce731ea109d7bf</td><td>896600</td></tr><tr><td>images/2.3.3.1</td><td>056b036a384f2243430c61a4e0c7c174</td><td>887012</td></tr><tr><td>images/3.0.0.0</td><td>ef68ee98a8714af9abe12040335a4b5d</td><td>896564</td></tr><tr><td>images/3.0.0.1</td><td>d865076bd53389640218719b8d57ddc4</td><td>887409</td></tr><tr><td>images/3.0.1.0</td><td>e30b4342880c32c2f771eed6328a6388</td><td>896596</td></tr><tr><td>images/3.0.1.1</td><td>38089621ddae87c3b3a22966a7ad7eef</td><td>886856</td></tr><tr><td>images/3.0.2.0</td><td>1530528672864352c3f864534286c719</td><td>896583</td></tr><tr><td>images/3.0.2.1</td><td>d63e9f928382be983c21bac6b2bfdec3</td><td>887012</td></tr><tr><td>images/3.0.3.0</td><td>4f6bee9365ace194d80c76928f552ac3</td><td>896587</td></tr><tr><td>images/3.0.3.1</td><td>d3b910d130a471ec86c33b5654ecfd76</td><td>887086</td></tr><tr><td>images/3.1.0.0</td><td>c8b42c18eb586f37cba3c13c97194f6e</td><td>896587</td></tr><tr><td>images/3.1.0.1</td><td>4285d872b5b9626572f62bb1881ae588</td><td>886896</td></tr><tr><td>images/3.1.1.0</td><td>146d762ef25df031eb79832a15df5de9</td><td>896583</td></tr><tr><td>images/3.1.1.1</td><td>ea6158a4213b9cc8f97dd342dcaf1673</td><td>886990</td></tr><tr><td>images/3.1.2.0</td><td>b1dc16d3cb8307f2b9607db5a33803f9</td><td>896594</td></tr><tr><td>images/3.1.2.1</td><td>155faef1de377ce5c0ba58f2908a61c0</td><td>886880</td></tr><tr><td>images/3.1.3.0</td><td>e27d9f8c7646290c079e35985af5ef37</td><td>896581</td></tr><tr><td>images/3.1.3.1</td><td>f77f5f36d575071fe33f38f442fe69a8</td><td>887077</td></tr><tr><td>images/3.2.0.0</td><td>b517287d29fd193db58b4f629e71da89</td><td>896599</td></tr><tr><td>images/3.2.0.1</td><td>9407d64d9b0fbe8cfaac52dd6565b7c4</td><td>886889</td></tr><tr><td>images/3.2.1.0</td><td>e874b0f78d6e04d94d3f8cd005f17fc2</td><td>896575</td></tr><tr><td>images/3.2.1.1</td><td>4bd588c7442c4f32354904abe9ab7d70</td><td>886983</td></tr><tr><td>images/3.2.2.0</td><td>b72858cc6b9c1b266b66c77097f3ac38</td><td>896576</td></tr><tr><td>images/3.2.2.1</td><td>4fe5e6917b5ba753206aad2ec3fecb2f</td><td>887032</td></tr><tr><td>images/3.2.3.0</td><td>b4f406fac590f8dbd677bb142f0dc681</td><td>896596</td></tr><tr><td>images/3.2.3.1</td><td>54881715893ffa3edaf30619b26bd8d8</td><td>886997</td></tr><tr><td>images/3.3.0.0</td><td>f3e12accae3622a94efb03cb6f21b317</td><td>896587</td></tr><tr><td>images/3.3.0.1</td><td>76c0db434bd2b31b84f08c3080b9d328</td><td>887053</td></tr><tr><td>images/3.3.1.0</td><td>d24d18d41cc724c8148bc0655ba69d95</td><td>896570</td></tr><tr><td>images/3.3.1.1</td><td>937a790b23c6e3854dc881c9c4e2f585</td><td>887119</td></tr><tr><td>images/3.3.2.0</td><td>bd1dffc5a0b9706c2df5b911d4b699e1</td><td>896590</td></tr><tr><td>images/3.3.2.1</td><td>a68722ab12b6e73d9ac688bba3846b68</td><td>887047</td></tr><tr><td>images/3.3.3.0</td><td>632fc5f74101b7c2b240d0adab56bf00</td><td>896594</td></tr><tr><td>images/3.3.3.1</td><td>29591added48ae01120e0d1d6030ac1b</td><td>886702</td></tr></tbody></table></td></tr><tr><th>n_rows</th><td>1000</td></tr><tr><th>n_columns</th><td>1</td></tr></table>"
      ],
      "text/plain": [
       "{\n",
       "  \"name\": null,\n",
       "  \"description\": \"\",\n",
       "  \"tags\": [],\n",
       "  \"user_attributes\": {},\n",
       "  \"owner\": null,\n",
       "  \"polaris_version\": \"dev\",\n",
       "  \"default_adapters\": {},\n",
       "  \"zarr_root_path\": \"/mnt/ps/home/CORP/lu.zhu/.cache/polaris-tutorials/002/zarr/processed.zarr\",\n",
       "  \"readme\": \"\",\n",
       "  \"annotations\": {\n",
       "    \"images\": {\n",
       "      \"is_pointer\": true,\n",
       "      \"modality\": \"UNKNOWN\",\n",
       "      \"description\": null,\n",
       "      \"user_attributes\": {},\n",
       "      \"dtype\": \"object\"\n",
       "    }\n",
       "  },\n",
       "  \"source\": null,\n",
       "  \"license\": null,\n",
       "  \"curation_reference\": null,\n",
       "  \"cache_dir\": \"/mnt/ps/home/CORP/lu.zhu/.cache/polaris/datasets/359ed002-48b1-4de7-a3df-83496a00bd6d\",\n",
       "  \"md5sum\": \"ca4766d15dce67159a7f15b239215ca3\",\n",
       "  \"artifact_id\": null,\n",
       "  \"zarr_md5sum_manifest\": [\n",
       "    {\n",
       "      \"path\": \".zgroup\",\n",
       "      \"md5sum\": \"e20297935e73dd0154104d4ea53040ab\",\n",
       "      \"size\": 24\n",
       "    },\n",
       "    {\n",
       "      \"path\": \".zmetadata\",\n",
       "      \"md5sum\": \"a044a50b6c0e5548b0dc7df18947379d\",\n",
       "      \"size\": 736\n",
       "    },\n",
       "    {\n",
       "      \"path\": \"images/.zarray\",\n",
       "      \"md5sum\": \"dc17c5e9998b27bb705a75ad33cb909a\",\n",
       "      \"size\": 386\n",
       "    },\n",
       "    {\n",
       "      \"path\": \"images/0.0.0.0\",\n",
       "      \"md5sum\": \"c7d90c5bcfe8db29f7117f26eacc02d5\",\n",
       "      \"size\": 896585\n",
       "    },\n",
       "    {\n",
       "      \"path\": \"images/0.0.0.1\",\n",
       "      \"md5sum\": \"a99677c8849c9b372b1b5ac225676c88\",\n",
       "      \"size\": 887100\n",
       "    },\n",
       "    {\n",
       "      \"path\": \"images/0.0.1.0\",\n",
       "      \"md5sum\": \"b2fdcf48167d167071f2275a0932f1b5\",\n",
       "      \"size\": 896573\n",
       "    },\n",
       "    {\n",
       "      \"path\": \"images/0.0.1.1\",\n",
       "      \"md5sum\": \"f9465617ff41934c559ff229ae7a25c1\",\n",
       "      \"size\": 886885\n",
       "    },\n",
       "    {\n",
       "      \"path\": \"images/0.0.2.0\",\n",
       "      \"md5sum\": \"208bded7d07b3bbf3d7403fdc68594c1\",\n",
       "      \"size\": 896591\n",
       "    },\n",
       "    {\n",
       "      \"path\": \"images/0.0.2.1\",\n",
       "      \"md5sum\": \"740f3cb027d289fb13b9371df510de9d\",\n",
       "      \"size\": 886831\n",
       "    },\n",
       "    {\n",
       "      \"path\": \"images/0.0.3.0\",\n",
       "      \"md5sum\": \"3a922739a6a404f4124b4a8698eb3775\",\n",
       "      \"size\": 896576\n",
       "    },\n",
       "    {\n",
       "      \"path\": \"images/0.0.3.1\",\n",
       "      \"md5sum\": \"97c32de6051a4b34d5835f07c46c1b48\",\n",
       "      \"size\": 887198\n",
       "    },\n",
       "    {\n",
       "      \"path\": \"images/0.1.0.0\",\n",
       "      \"md5sum\": \"d16a08610a67f79d5536e56a4e1cce85\",\n",
       "      \"size\": 896576\n",
       "    },\n",
       "    {\n",
       "      \"path\": \"images/0.1.0.1\",\n",
       "      \"md5sum\": \"95c50d28dad41849339c72749fff47e6\",\n",
       "      \"size\": 886739\n",
       "    },\n",
       "    {\n",
       "      \"path\": \"images/0.1.1.0\",\n",
       "      \"md5sum\": \"47a9d07c956a513d52de739f918633c5\",\n",
       "      \"size\": 896591\n",
       "    },\n",
       "    {\n",
       "      \"path\": \"images/0.1.1.1\",\n",
       "      \"md5sum\": \"425c363aefc7a2ea30904ff71c23533b\",\n",
       "      \"size\": 886831\n",
       "    },\n",
       "    {\n",
       "      \"path\": \"images/0.1.2.0\",\n",
       "      \"md5sum\": \"b4f690ef587de25767003647e0df1043\",\n",
       "      \"size\": 896590\n",
       "    },\n",
       "    {\n",
       "      \"path\": \"images/0.1.2.1\",\n",
       "      \"md5sum\": \"0eae1e2d389c7758d50b1d14b6a892f6\",\n",
       "      \"size\": 887072\n",
       "    },\n",
       "    {\n",
       "      \"path\": \"images/0.1.3.0\",\n",
       "      \"md5sum\": \"88ee357e3e19f8c2ab6e26a084405b95\",\n",
       "      \"size\": 896591\n",
       "    },\n",
       "    {\n",
       "      \"path\": \"images/0.1.3.1\",\n",
       "      \"md5sum\": \"7df80f5c40676dbf5763b75360800cdb\",\n",
       "      \"size\": 887221\n",
       "    },\n",
       "    {\n",
       "      \"path\": \"images/0.2.0.0\",\n",
       "      \"md5sum\": \"2535c0398749e784ca4cd8ec8e9e6852\",\n",
       "      \"size\": 896564\n",
       "    },\n",
       "    {\n",
       "      \"path\": \"images/0.2.0.1\",\n",
       "      \"md5sum\": \"180675637d84bb237c87b1caae384a4b\",\n",
       "      \"size\": 887093\n",
       "    },\n",
       "    {\n",
       "      \"path\": \"images/0.2.1.0\",\n",
       "      \"md5sum\": \"99301544fe15b3c503de549edb78597a\",\n",
       "      \"size\": 896586\n",
       "    },\n",
       "    {\n",
       "      \"path\": \"images/0.2.1.1\",\n",
       "      \"md5sum\": \"5b007a4b863be52d2d507aca35a39e62\",\n",
       "      \"size\": 887114\n",
       "    },\n",
       "    {\n",
       "      \"path\": \"images/0.2.2.0\",\n",
       "      \"md5sum\": \"9563c95e266dfa70a33f43692a2ec77b\",\n",
       "      \"size\": 896583\n",
       "    },\n",
       "    {\n",
       "      \"path\": \"images/0.2.2.1\",\n",
       "      \"md5sum\": \"ebd9aef6bde85ac1a554332e53512a71\",\n",
       "      \"size\": 887189\n",
       "    },\n",
       "    {\n",
       "      \"path\": \"images/0.2.3.0\",\n",
       "      \"md5sum\": \"6856d28761a759a3c257073315f4c635\",\n",
       "      \"size\": 896586\n",
       "    },\n",
       "    {\n",
       "      \"path\": \"images/0.2.3.1\",\n",
       "      \"md5sum\": \"26b26d3cd91dacc4858d99340c54fa20\",\n",
       "      \"size\": 887048\n",
       "    },\n",
       "    {\n",
       "      \"path\": \"images/0.3.0.0\",\n",
       "      \"md5sum\": \"0843993eba6130bf4e0b5c90f783c53d\",\n",
       "      \"size\": 896570\n",
       "    },\n",
       "    {\n",
       "      \"path\": \"images/0.3.0.1\",\n",
       "      \"md5sum\": \"09859b1c1e5bcd2da8633f9ca9b41fff\",\n",
       "      \"size\": 887046\n",
       "    },\n",
       "    {\n",
       "      \"path\": \"images/0.3.1.0\",\n",
       "      \"md5sum\": \"d8ae37310b81bed5f2c239e6bc3f4c57\",\n",
       "      \"size\": 896594\n",
       "    },\n",
       "    {\n",
       "      \"path\": \"images/0.3.1.1\",\n",
       "      \"md5sum\": \"ce34e6b3afe501baf5440519d0ed4988\",\n",
       "      \"size\": 887081\n",
       "    },\n",
       "    {\n",
       "      \"path\": \"images/0.3.2.0\",\n",
       "      \"md5sum\": \"c904a7badc74455a35f38bd1c0425dc6\",\n",
       "      \"size\": 896594\n",
       "    },\n",
       "    {\n",
       "      \"path\": \"images/0.3.2.1\",\n",
       "      \"md5sum\": \"09af7e789d251a3d5eeeab5a522dbc63\",\n",
       "      \"size\": 886916\n",
       "    },\n",
       "    {\n",
       "      \"path\": \"images/0.3.3.0\",\n",
       "      \"md5sum\": \"fb96c28a653d41732eaedbe635702a35\",\n",
       "      \"size\": 896576\n",
       "    },\n",
       "    {\n",
       "      \"path\": \"images/0.3.3.1\",\n",
       "      \"md5sum\": \"625839b8b84feefaa16bf2cddd78e865\",\n",
       "      \"size\": 886667\n",
       "    },\n",
       "    {\n",
       "      \"path\": \"images/1.0.0.0\",\n",
       "      \"md5sum\": \"5f737a1518cb83bdb2d9ade7ca0f3170\",\n",
       "      \"size\": 896575\n",
       "    },\n",
       "    {\n",
       "      \"path\": \"images/1.0.0.1\",\n",
       "      \"md5sum\": \"1eb188886b7aae89eee540c60c29210c\",\n",
       "      \"size\": 886871\n",
       "    },\n",
       "    {\n",
       "      \"path\": \"images/1.0.1.0\",\n",
       "      \"md5sum\": \"a5db9c84c07a9b524a03594f0e789b73\",\n",
       "      \"size\": 896595\n",
       "    },\n",
       "    {\n",
       "      \"path\": \"images/1.0.1.1\",\n",
       "      \"md5sum\": \"946eccd8c4fdb48126d5690d0aefd4af\",\n",
       "      \"size\": 886914\n",
       "    },\n",
       "    {\n",
       "      \"path\": \"images/1.0.2.0\",\n",
       "      \"md5sum\": \"fc58a7b272d637c9eba6707123ef99dd\",\n",
       "      \"size\": 896608\n",
       "    },\n",
       "    {\n",
       "      \"path\": \"images/1.0.2.1\",\n",
       "      \"md5sum\": \"ec4191e157a018dbe72cea8214b9e80b\",\n",
       "      \"size\": 887098\n",
       "    },\n",
       "    {\n",
       "      \"path\": \"images/1.0.3.0\",\n",
       "      \"md5sum\": \"fe24ccf015e4e7f2e92363fa83b77da0\",\n",
       "      \"size\": 896574\n",
       "    },\n",
       "    {\n",
       "      \"path\": \"images/1.0.3.1\",\n",
       "      \"md5sum\": \"5fc20fc646cd6cd5ebb13f1aff069026\",\n",
       "      \"size\": 887027\n",
       "    },\n",
       "    {\n",
       "      \"path\": \"images/1.1.0.0\",\n",
       "      \"md5sum\": \"4cdb1d841b155fd290b1ca2e0c2c98ec\",\n",
       "      \"size\": 896576\n",
       "    },\n",
       "    {\n",
       "      \"path\": \"images/1.1.0.1\",\n",
       "      \"md5sum\": \"d54479638b21ebfcf3a8cc0567f98440\",\n",
       "      \"size\": 886864\n",
       "    },\n",
       "    {\n",
       "      \"path\": \"images/1.1.1.0\",\n",
       "      \"md5sum\": \"fb252aed752105789734f3c06b8f533f\",\n",
       "      \"size\": 896583\n",
       "    },\n",
       "    {\n",
       "      \"path\": \"images/1.1.1.1\",\n",
       "      \"md5sum\": \"b45ce24e206772be843eb1740099bbb2\",\n",
       "      \"size\": 887263\n",
       "    },\n",
       "    {\n",
       "      \"path\": \"images/1.1.2.0\",\n",
       "      \"md5sum\": \"a238cb60af155e644afff459a905d2c4\",\n",
       "      \"size\": 896583\n",
       "    },\n",
       "    {\n",
       "      \"path\": \"images/1.1.2.1\",\n",
       "      \"md5sum\": \"5c42045653c1b75b166349ed1a080b53\",\n",
       "      \"size\": 887207\n",
       "    },\n",
       "    {\n",
       "      \"path\": \"images/1.1.3.0\",\n",
       "      \"md5sum\": \"1ed6187ba0ff30d5ebf42c79a469da5e\",\n",
       "      \"size\": 896573\n",
       "    },\n",
       "    {\n",
       "      \"path\": \"images/1.1.3.1\",\n",
       "      \"md5sum\": \"9822fbf39680378a811f67132addbda6\",\n",
       "      \"size\": 886936\n",
       "    },\n",
       "    {\n",
       "      \"path\": \"images/1.2.0.0\",\n",
       "      \"md5sum\": \"31ff3d070a236a6fa933aaac1502299b\",\n",
       "      \"size\": 896584\n",
       "    },\n",
       "    {\n",
       "      \"path\": \"images/1.2.0.1\",\n",
       "      \"md5sum\": \"c877ab0d2970e9879aa27ded983ada64\",\n",
       "      \"size\": 886954\n",
       "    },\n",
       "    {\n",
       "      \"path\": \"images/1.2.1.0\",\n",
       "      \"md5sum\": \"0c3324d2163a5fbac636b3fcf0757257\",\n",
       "      \"size\": 896585\n",
       "    },\n",
       "    {\n",
       "      \"path\": \"images/1.2.1.1\",\n",
       "      \"md5sum\": \"9e4fb9abbd6c2bf7e564dbeec67a9ace\",\n",
       "      \"size\": 886960\n",
       "    },\n",
       "    {\n",
       "      \"path\": \"images/1.2.2.0\",\n",
       "      \"md5sum\": \"98d2e55123e31d648acd94310b889157\",\n",
       "      \"size\": 896570\n",
       "    },\n",
       "    {\n",
       "      \"path\": \"images/1.2.2.1\",\n",
       "      \"md5sum\": \"b931b588a02eea1a83cb3214b929690b\",\n",
       "      \"size\": 886820\n",
       "    },\n",
       "    {\n",
       "      \"path\": \"images/1.2.3.0\",\n",
       "      \"md5sum\": \"6d2fed81183aab58bca8039c7436b9ba\",\n",
       "      \"size\": 896591\n",
       "    },\n",
       "    {\n",
       "      \"path\": \"images/1.2.3.1\",\n",
       "      \"md5sum\": \"d01e08cb5ab76cd80feb55495d094761\",\n",
       "      \"size\": 887092\n",
       "    },\n",
       "    {\n",
       "      \"path\": \"images/1.3.0.0\",\n",
       "      \"md5sum\": \"e3c4fc1d6ed28bb6a763935ec76dda9f\",\n",
       "      \"size\": 896590\n",
       "    },\n",
       "    {\n",
       "      \"path\": \"images/1.3.0.1\",\n",
       "      \"md5sum\": \"b1b482ef34c51c4fe6dc710d636d98b8\",\n",
       "      \"size\": 886910\n",
       "    },\n",
       "    {\n",
       "      \"path\": \"images/1.3.1.0\",\n",
       "      \"md5sum\": \"680707948aadedcd42457675826f7a4e\",\n",
       "      \"size\": 896594\n",
       "    },\n",
       "    {\n",
       "      \"path\": \"images/1.3.1.1\",\n",
       "      \"md5sum\": \"c582ea9309589000dde1d68e69ecd2fe\",\n",
       "      \"size\": 886798\n",
       "    },\n",
       "    {\n",
       "      \"path\": \"images/1.3.2.0\",\n",
       "      \"md5sum\": \"07abb9d33ba6734e904d44a81a72c0f4\",\n",
       "      \"size\": 896578\n",
       "    },\n",
       "    {\n",
       "      \"path\": \"images/1.3.2.1\",\n",
       "      \"md5sum\": \"1d2c8b9e291e7ebd5084a3c3e957a14a\",\n",
       "      \"size\": 887114\n",
       "    },\n",
       "    {\n",
       "      \"path\": \"images/1.3.3.0\",\n",
       "      \"md5sum\": \"64203f6b5434cb118098109ba74de4b1\",\n",
       "      \"size\": 896600\n",
       "    },\n",
       "    {\n",
       "      \"path\": \"images/1.3.3.1\",\n",
       "      \"md5sum\": \"dfca2e90dfcbeab7b6dfc5e04f4d3bb8\",\n",
       "      \"size\": 887252\n",
       "    },\n",
       "    {\n",
       "      \"path\": \"images/2.0.0.0\",\n",
       "      \"md5sum\": \"c29d93d59a8ec4f6750d9d6d18638490\",\n",
       "      \"size\": 896578\n",
       "    },\n",
       "    {\n",
       "      \"path\": \"images/2.0.0.1\",\n",
       "      \"md5sum\": \"be43866bd4f65176b6f4792e7f4693c8\",\n",
       "      \"size\": 887230\n",
       "    },\n",
       "    {\n",
       "      \"path\": \"images/2.0.1.0\",\n",
       "      \"md5sum\": \"12359d7bd1fc219d94965e2188007bec\",\n",
       "      \"size\": 896589\n",
       "    },\n",
       "    {\n",
       "      \"path\": \"images/2.0.1.1\",\n",
       "      \"md5sum\": \"368b62512ede8b35fc119de65c8bb600\",\n",
       "      \"size\": 886887\n",
       "    },\n",
       "    {\n",
       "      \"path\": \"images/2.0.2.0\",\n",
       "      \"md5sum\": \"0c5b385314a78c98241e88fd7bd7b05b\",\n",
       "      \"size\": 896580\n",
       "    },\n",
       "    {\n",
       "      \"path\": \"images/2.0.2.1\",\n",
       "      \"md5sum\": \"c6dbaa23693fb94b9448a0626760447c\",\n",
       "      \"size\": 887001\n",
       "    },\n",
       "    {\n",
       "      \"path\": \"images/2.0.3.0\",\n",
       "      \"md5sum\": \"71bbe738c37aba9a389f947f03483785\",\n",
       "      \"size\": 896588\n",
       "    },\n",
       "    {\n",
       "      \"path\": \"images/2.0.3.1\",\n",
       "      \"md5sum\": \"14cf5c01a7610167252f3052fcf509d9\",\n",
       "      \"size\": 887137\n",
       "    },\n",
       "    {\n",
       "      \"path\": \"images/2.1.0.0\",\n",
       "      \"md5sum\": \"97e3935490d785ac6eca1be565348f76\",\n",
       "      \"size\": 896580\n",
       "    },\n",
       "    {\n",
       "      \"path\": \"images/2.1.0.1\",\n",
       "      \"md5sum\": \"a18d3cf9917a01920fab147d96956ee8\",\n",
       "      \"size\": 886809\n",
       "    },\n",
       "    {\n",
       "      \"path\": \"images/2.1.1.0\",\n",
       "      \"md5sum\": \"21deb317eba132fe6f3043e5f3ca1c04\",\n",
       "      \"size\": 896580\n",
       "    },\n",
       "    {\n",
       "      \"path\": \"images/2.1.1.1\",\n",
       "      \"md5sum\": \"bb72abfcc7d91843baf430ab1c5498b1\",\n",
       "      \"size\": 886823\n",
       "    },\n",
       "    {\n",
       "      \"path\": \"images/2.1.2.0\",\n",
       "      \"md5sum\": \"ceda8fbcf4f89b804c10121ba6f808e8\",\n",
       "      \"size\": 896600\n",
       "    },\n",
       "    {\n",
       "      \"path\": \"images/2.1.2.1\",\n",
       "      \"md5sum\": \"4230b5f79a72b30011e1bcff892522c5\",\n",
       "      \"size\": 886977\n",
       "    },\n",
       "    {\n",
       "      \"path\": \"images/2.1.3.0\",\n",
       "      \"md5sum\": \"e52c43b9afa8619b98f6d236618fc318\",\n",
       "      \"size\": 896586\n",
       "    },\n",
       "    {\n",
       "      \"path\": \"images/2.1.3.1\",\n",
       "      \"md5sum\": \"21796a661fbb1cb0e3c1fa975b066010\",\n",
       "      \"size\": 887229\n",
       "    },\n",
       "    {\n",
       "      \"path\": \"images/2.2.0.0\",\n",
       "      \"md5sum\": \"24ca4db81048e89031bfbfa3cf8994c4\",\n",
       "      \"size\": 896591\n",
       "    },\n",
       "    {\n",
       "      \"path\": \"images/2.2.0.1\",\n",
       "      \"md5sum\": \"6d8316f9ca50b39c5049cd4db129a59d\",\n",
       "      \"size\": 887244\n",
       "    },\n",
       "    {\n",
       "      \"path\": \"images/2.2.1.0\",\n",
       "      \"md5sum\": \"bc743363119acbace0fd4c493b3edef6\",\n",
       "      \"size\": 896602\n",
       "    },\n",
       "    {\n",
       "      \"path\": \"images/2.2.1.1\",\n",
       "      \"md5sum\": \"aa1fdd809afd66c4414d702990fc5348\",\n",
       "      \"size\": 886847\n",
       "    },\n",
       "    {\n",
       "      \"path\": \"images/2.2.2.0\",\n",
       "      \"md5sum\": \"b377dd283e74885f731d2096b00fb978\",\n",
       "      \"size\": 896583\n",
       "    },\n",
       "    {\n",
       "      \"path\": \"images/2.2.2.1\",\n",
       "      \"md5sum\": \"611d6b7616444c4888a0d9e2094dbf40\",\n",
       "      \"size\": 887013\n",
       "    },\n",
       "    {\n",
       "      \"path\": \"images/2.2.3.0\",\n",
       "      \"md5sum\": \"871c80b0a3f50c14f72c4fa9ce48011b\",\n",
       "      \"size\": 896596\n",
       "    },\n",
       "    {\n",
       "      \"path\": \"images/2.2.3.1\",\n",
       "      \"md5sum\": \"0aa3b4391a5d2a0eef00d3e4f243d31b\",\n",
       "      \"size\": 886900\n",
       "    },\n",
       "    {\n",
       "      \"path\": \"images/2.3.0.0\",\n",
       "      \"md5sum\": \"044460f42e0e40a35af73080ec125408\",\n",
       "      \"size\": 896570\n",
       "    },\n",
       "    {\n",
       "      \"path\": \"images/2.3.0.1\",\n",
       "      \"md5sum\": \"a165ea4a8e3cb88c102f79e68a51cc71\",\n",
       "      \"size\": 886770\n",
       "    },\n",
       "    {\n",
       "      \"path\": \"images/2.3.1.0\",\n",
       "      \"md5sum\": \"131649bb57ebb53540cbac685920bf47\",\n",
       "      \"size\": 896606\n",
       "    },\n",
       "    {\n",
       "      \"path\": \"images/2.3.1.1\",\n",
       "      \"md5sum\": \"ffd593af4fcadb31ba15278d9b5315e8\",\n",
       "      \"size\": 886677\n",
       "    },\n",
       "    {\n",
       "      \"path\": \"images/2.3.2.0\",\n",
       "      \"md5sum\": \"af98f244098b6485c6eec66af7b6d730\",\n",
       "      \"size\": 896589\n",
       "    },\n",
       "    {\n",
       "      \"path\": \"images/2.3.2.1\",\n",
       "      \"md5sum\": \"cff7c385198371a8689f273db5884c95\",\n",
       "      \"size\": 887457\n",
       "    },\n",
       "    {\n",
       "      \"path\": \"images/2.3.3.0\",\n",
       "      \"md5sum\": \"517d81d4ff76e14a24ce731ea109d7bf\",\n",
       "      \"size\": 896600\n",
       "    },\n",
       "    {\n",
       "      \"path\": \"images/2.3.3.1\",\n",
       "      \"md5sum\": \"056b036a384f2243430c61a4e0c7c174\",\n",
       "      \"size\": 887012\n",
       "    },\n",
       "    {\n",
       "      \"path\": \"images/3.0.0.0\",\n",
       "      \"md5sum\": \"ef68ee98a8714af9abe12040335a4b5d\",\n",
       "      \"size\": 896564\n",
       "    },\n",
       "    {\n",
       "      \"path\": \"images/3.0.0.1\",\n",
       "      \"md5sum\": \"d865076bd53389640218719b8d57ddc4\",\n",
       "      \"size\": 887409\n",
       "    },\n",
       "    {\n",
       "      \"path\": \"images/3.0.1.0\",\n",
       "      \"md5sum\": \"e30b4342880c32c2f771eed6328a6388\",\n",
       "      \"size\": 896596\n",
       "    },\n",
       "    {\n",
       "      \"path\": \"images/3.0.1.1\",\n",
       "      \"md5sum\": \"38089621ddae87c3b3a22966a7ad7eef\",\n",
       "      \"size\": 886856\n",
       "    },\n",
       "    {\n",
       "      \"path\": \"images/3.0.2.0\",\n",
       "      \"md5sum\": \"1530528672864352c3f864534286c719\",\n",
       "      \"size\": 896583\n",
       "    },\n",
       "    {\n",
       "      \"path\": \"images/3.0.2.1\",\n",
       "      \"md5sum\": \"d63e9f928382be983c21bac6b2bfdec3\",\n",
       "      \"size\": 887012\n",
       "    },\n",
       "    {\n",
       "      \"path\": \"images/3.0.3.0\",\n",
       "      \"md5sum\": \"4f6bee9365ace194d80c76928f552ac3\",\n",
       "      \"size\": 896587\n",
       "    },\n",
       "    {\n",
       "      \"path\": \"images/3.0.3.1\",\n",
       "      \"md5sum\": \"d3b910d130a471ec86c33b5654ecfd76\",\n",
       "      \"size\": 887086\n",
       "    },\n",
       "    {\n",
       "      \"path\": \"images/3.1.0.0\",\n",
       "      \"md5sum\": \"c8b42c18eb586f37cba3c13c97194f6e\",\n",
       "      \"size\": 896587\n",
       "    },\n",
       "    {\n",
       "      \"path\": \"images/3.1.0.1\",\n",
       "      \"md5sum\": \"4285d872b5b9626572f62bb1881ae588\",\n",
       "      \"size\": 886896\n",
       "    },\n",
       "    {\n",
       "      \"path\": \"images/3.1.1.0\",\n",
       "      \"md5sum\": \"146d762ef25df031eb79832a15df5de9\",\n",
       "      \"size\": 896583\n",
       "    },\n",
       "    {\n",
       "      \"path\": \"images/3.1.1.1\",\n",
       "      \"md5sum\": \"ea6158a4213b9cc8f97dd342dcaf1673\",\n",
       "      \"size\": 886990\n",
       "    },\n",
       "    {\n",
       "      \"path\": \"images/3.1.2.0\",\n",
       "      \"md5sum\": \"b1dc16d3cb8307f2b9607db5a33803f9\",\n",
       "      \"size\": 896594\n",
       "    },\n",
       "    {\n",
       "      \"path\": \"images/3.1.2.1\",\n",
       "      \"md5sum\": \"155faef1de377ce5c0ba58f2908a61c0\",\n",
       "      \"size\": 886880\n",
       "    },\n",
       "    {\n",
       "      \"path\": \"images/3.1.3.0\",\n",
       "      \"md5sum\": \"e27d9f8c7646290c079e35985af5ef37\",\n",
       "      \"size\": 896581\n",
       "    },\n",
       "    {\n",
       "      \"path\": \"images/3.1.3.1\",\n",
       "      \"md5sum\": \"f77f5f36d575071fe33f38f442fe69a8\",\n",
       "      \"size\": 887077\n",
       "    },\n",
       "    {\n",
       "      \"path\": \"images/3.2.0.0\",\n",
       "      \"md5sum\": \"b517287d29fd193db58b4f629e71da89\",\n",
       "      \"size\": 896599\n",
       "    },\n",
       "    {\n",
       "      \"path\": \"images/3.2.0.1\",\n",
       "      \"md5sum\": \"9407d64d9b0fbe8cfaac52dd6565b7c4\",\n",
       "      \"size\": 886889\n",
       "    },\n",
       "    {\n",
       "      \"path\": \"images/3.2.1.0\",\n",
       "      \"md5sum\": \"e874b0f78d6e04d94d3f8cd005f17fc2\",\n",
       "      \"size\": 896575\n",
       "    },\n",
       "    {\n",
       "      \"path\": \"images/3.2.1.1\",\n",
       "      \"md5sum\": \"4bd588c7442c4f32354904abe9ab7d70\",\n",
       "      \"size\": 886983\n",
       "    },\n",
       "    {\n",
       "      \"path\": \"images/3.2.2.0\",\n",
       "      \"md5sum\": \"b72858cc6b9c1b266b66c77097f3ac38\",\n",
       "      \"size\": 896576\n",
       "    },\n",
       "    {\n",
       "      \"path\": \"images/3.2.2.1\",\n",
       "      \"md5sum\": \"4fe5e6917b5ba753206aad2ec3fecb2f\",\n",
       "      \"size\": 887032\n",
       "    },\n",
       "    {\n",
       "      \"path\": \"images/3.2.3.0\",\n",
       "      \"md5sum\": \"b4f406fac590f8dbd677bb142f0dc681\",\n",
       "      \"size\": 896596\n",
       "    },\n",
       "    {\n",
       "      \"path\": \"images/3.2.3.1\",\n",
       "      \"md5sum\": \"54881715893ffa3edaf30619b26bd8d8\",\n",
       "      \"size\": 886997\n",
       "    },\n",
       "    {\n",
       "      \"path\": \"images/3.3.0.0\",\n",
       "      \"md5sum\": \"f3e12accae3622a94efb03cb6f21b317\",\n",
       "      \"size\": 896587\n",
       "    },\n",
       "    {\n",
       "      \"path\": \"images/3.3.0.1\",\n",
       "      \"md5sum\": \"76c0db434bd2b31b84f08c3080b9d328\",\n",
       "      \"size\": 887053\n",
       "    },\n",
       "    {\n",
       "      \"path\": \"images/3.3.1.0\",\n",
       "      \"md5sum\": \"d24d18d41cc724c8148bc0655ba69d95\",\n",
       "      \"size\": 896570\n",
       "    },\n",
       "    {\n",
       "      \"path\": \"images/3.3.1.1\",\n",
       "      \"md5sum\": \"937a790b23c6e3854dc881c9c4e2f585\",\n",
       "      \"size\": 887119\n",
       "    },\n",
       "    {\n",
       "      \"path\": \"images/3.3.2.0\",\n",
       "      \"md5sum\": \"bd1dffc5a0b9706c2df5b911d4b699e1\",\n",
       "      \"size\": 896590\n",
       "    },\n",
       "    {\n",
       "      \"path\": \"images/3.3.2.1\",\n",
       "      \"md5sum\": \"a68722ab12b6e73d9ac688bba3846b68\",\n",
       "      \"size\": 887047\n",
       "    },\n",
       "    {\n",
       "      \"path\": \"images/3.3.3.0\",\n",
       "      \"md5sum\": \"632fc5f74101b7c2b240d0adab56bf00\",\n",
       "      \"size\": 896594\n",
       "    },\n",
       "    {\n",
       "      \"path\": \"images/3.3.3.1\",\n",
       "      \"md5sum\": \"29591added48ae01120e0d1d6030ac1b\",\n",
       "      \"size\": 886702\n",
       "    }\n",
       "  ],\n",
       "  \"n_rows\": 1000,\n",
       "  \"n_columns\": 1\n",
       "}"
      ]
     },
     "execution_count": 18,
     "metadata": {},
     "output_type": "execute_result"
    }
   ],
   "source": [
    "Dataset.from_json(json_path)"
   ]
  },
  {
   "cell_type": "markdown",
   "id": "0503a3a7",
   "metadata": {},
   "source": [
    "### Upload zarr dataset to Hub"
   ]
  },
  {
   "cell_type": "code",
   "execution_count": 23,
   "id": "cf0f7e69",
   "metadata": {},
   "outputs": [],
   "source": [
    "# Define the zarr dataset metadata before uploading\n",
    "dataset.name = \"tutorial_zarr\"\n",
    "dataset.license = \"CC-BY-4.0\"\n",
    "dataset.source = \"https://github.com/polaris-hub/polaris\""
   ]
  },
  {
   "cell_type": "code",
   "execution_count": 24,
   "id": "5251b027",
   "metadata": {},
   "outputs": [
    {
     "name": "stdout",
     "output_type": "stream",
     "text": [
      "⠸ Uploading dataset... "
     ]
    },
    {
     "name": "stderr",
     "output_type": "stream",
     "text": [
      "\u001b[32m2024-07-21 01:49:16.093\u001b[0m | \u001b[1mINFO    \u001b[0m | \u001b[36mpolaris.hub.client\u001b[0m:\u001b[36mupload_dataset\u001b[0m:\u001b[36m602\u001b[0m - \u001b[1mCopying Zarr archive to the Hub. This may take a while.\u001b[0m\n"
     ]
    },
    {
     "name": "stdout",
     "output_type": "stream",
     "text": [
      "✅ SUCCESS: \u001b[1mYour dataset has been successfully uploaded to the Hub. View it here: https://polarishub.io/datasets/polaris/tutorial_zarr\u001b[0m\n",
      " \n"
     ]
    },
    {
     "name": "stderr",
     "output_type": "stream",
     "text": [
      "/mnt/ps/home/CORP/lu.zhu/miniconda3/envs/po_datasets/lib/python3.12/site-packages/yaspin/core.py:228: UserWarning: color, on_color and attrs are not supported when running in jupyter\n",
      "  self._color = self._set_color(value) if value else value\n"
     ]
    }
   ],
   "source": [
    "dataset.upload_to_hub(owner=\"polaris\")"
   ]
  },
  {
   "cell_type": "markdown",
   "id": "72767ef2",
   "metadata": {
    "editable": true,
    "slideshow": {
     "slide_type": ""
    },
    "tags": []
   },
   "source": [
    "The End. "
   ]
  }
 ],
 "metadata": {
  "kernelspec": {
   "display_name": "Python 3 (ipykernel)",
   "language": "python",
   "name": "python3"
  },
  "language_info": {
   "codemirror_mode": {
    "name": "ipython",
    "version": 3
   },
   "file_extension": ".py",
   "mimetype": "text/x-python",
   "name": "python",
   "nbconvert_exporter": "python",
   "pygments_lexer": "ipython3",
   "version": "3.12.4"
  }
 },
 "nbformat": 4,
 "nbformat_minor": 5
}
