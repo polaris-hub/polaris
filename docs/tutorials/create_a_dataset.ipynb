{
 "cells": [
  {
   "cell_type": "markdown",
   "metadata": {},
   "source": [
    "On the surface, a dataset in Polaris is simply a tabular collection of data, storing datapoints in a row-wise manner. However, as you try create your own, you'll realize that there is some additional complexity under the hood.\n",
    "\n",
    "## Create a Dataset\n",
    "\n",
    "To create a dataset, you need to instantiate the `DatasetV2` class. "
   ]
  },
  {
   "cell_type": "code",
   "execution_count": null,
   "metadata": {},
   "outputs": [],
   "source": [
    "from polaris.dataset import DatasetV2, ColumnAnnotation\n",
    "\n",
    "dataset = DatasetV2(\n",
    "    \n",
    "    # Specify metadata on the dataset level\n",
    "    name=\"tutorial-example\",\n",
    "    owner=\"your-username\",\n",
    "    tags=[\"small-molecules\", \"predictive\", \"admet\"],\n",
    "    source=\"https://example.com\",\n",
    "    license=\"CC-BY-4.0\",\n",
    "    \n",
    "    # Specify metadata on the column level\n",
    "    annotations = {\n",
    "        \"Ligand Pose\": ColumnAnnotation(\n",
    "            description=\"The 3D pose of the ligand\", \n",
    "            user_attributes={\"Object Type\": \"rdkit.Chem.Mol\"}, \n",
    "            modality=\"MOLECULE_3D\"\n",
    "        ),\n",
    "        \"Ligand SMILES\": ColumnAnnotation(\n",
    "            description=\"The 2D graph structure of the ligand, as SMILES\", \n",
    "            user_attributes={\"Object Type\": \"str\"}, \n",
    "            modality=\"MOLECULE\"\n",
    "        ),\n",
    "        \"Permeability\": ColumnAnnotation(\n",
    "            description=\"MDR1-MDCK efflux ratio (B-A/A-B)\", \n",
    "            user_attributes={\"Unit\": \"\tmL/min/kg\"}\n",
    "        )\n",
    "    },\n",
    "    \n",
    "    # Specify the actual data\n",
    "    zarr_root_path=\"path/to/root.zarr\",\n",
    ")"
   ]
  },
  {
   "cell_type": "markdown",
   "metadata": {},
   "source": [
    "For the rest of this tutorial, we will take a deeper look at the `zarr_root_path` parameter.\n",
    "\n",
    "First, some context.\n",
    "\n",
    "## Universal and ML-ready\n",
    "\n",
    "![image](../images/zarr.png)\n",
    "_An illustration of Zarr, which is core to Polaris its datamodel_\n",
    "\n",
    "With the Polaris Hub we set out to design a universal data format for ML scientists in drug discovery. Whether you’re working with phenomics, small molecules, or protein structures, you shouldn’t have to spend time learning about domain-specific file formats, APIs, and software tools to be able to run some ML experiments. Beyond modalities, drug discovery datasets also come in different sizes, from kilobytes to terabytes.\n",
    "</br>\n",
    "\n",
    "We found such a universal data format in [Zarr](https://zarr.readthedocs.io/). Zarr is a powerful library for storage of n-dimensional arrays, supporting chunking, compression, and various backends, making it a versatile choice for scientific and large-scale data. It's similar to HDF5, if you're familiar with that. \n",
    "\n",
    "Want to learn more? \n",
    "- Learn about the motivation of our dataset implementation [here](https://polarishub.io/blog/dataset-v2-built-to-scale).\n",
    "- Learn what we mean by ML-ready [here](https://polarishub.io/blog/dataset-v2-built-to-scale).\n",
    "\n",
    "## Zarr basics\n",
    "Zarr is well [documented](https://zarr.readthedocs.io/en/stable/index.html) and before continuing this tutorial, we recommend you to at least read through the [Quickstart](https://zarr.readthedocs.io/en/stable/quickstart.html).\n",
    "\n",
    "## Converting to Zarr\n",
    "In its most basic form, a Polaris compatible Zarr archive is a single Zarr group (the _root_) with equal length Zarr arrays for each of the columns in the dataset.\n",
    "\n",
    "Chances are that your dataset is currently not stored in a Zarr archive. We will show you how to convert a few common formats to a Polaris compatible Zarr archive.\n",
    "\n",
    "### From a Numpy Array\n",
    "The most simple case is if you have your data in a NumPy array."
   ]
  },
  {
   "cell_type": "code",
   "execution_count": null,
   "metadata": {},
   "outputs": [],
   "source": [
    "import numpy as np\n",
    "\n",
    "data = np.random.random(2048)"
   ]
  },
  {
   "cell_type": "code",
   "execution_count": null,
   "metadata": {},
   "outputs": [],
   "source": [
    "import zarr\n",
    "\n",
    "# Create an empty Zarr group\n",
    "root = zarr.open(path, \"w\")\n",
    "\n",
    "# Populate it with the array\n",
    "root.array(\"column_name\", data)"
   ]
  },
  {
   "cell_type": "markdown",
   "metadata": {},
   "source": [
    "### From a DataFrame\n",
    "Since Pandas DataFrames can be thought of as labeled NumPy arrays, converting a DataFrame is straight-forward too."
   ]
  },
  {
   "cell_type": "code",
   "execution_count": null,
   "metadata": {},
   "outputs": [],
   "source": [
    "import pandas as pd\n",
    "\n",
    "df = pd.DataFrame({\n",
    "    \"A\": np.random.random(2048),\n",
    "    \"B\": np.random.random(2048)\n",
    "})"
   ]
  },
  {
   "cell_type": "markdown",
   "metadata": {},
   "source": [
    "Converting it to Zarr is as simple as creating equally named Zarr Arrays."
   ]
  },
  {
   "cell_type": "code",
   "execution_count": null,
   "metadata": {
    "scrolled": true
   },
   "outputs": [],
   "source": [
    "import zarr\n",
    "\n",
    "# Create an empty Zarr group\n",
    "root = zarr.open(zarr_root_path, \"w\")\n",
    "\n",
    "# Populate it with the arrays\n",
    "for col in set(df.columns):\n",
    "    root.array(col, data=df[col].values)"
   ]
  },
  {
   "cell_type": "markdown",
   "metadata": {},
   "source": [
    "Things get a little more tricky if you have columns with the `object` dtype, for example text."
   ]
  },
  {
   "cell_type": "code",
   "execution_count": null,
   "metadata": {},
   "outputs": [],
   "source": [
    "df[\"C\"] = [\"test\"] * 2048"
   ]
  },
  {
   "cell_type": "markdown",
   "metadata": {},
   "source": [
    "In that case you need to tell Zarr how to encode the Python object."
   ]
  },
  {
   "cell_type": "code",
   "execution_count": null,
   "metadata": {},
   "outputs": [],
   "source": [
    "import numcodecs\n",
    "\n",
    "root.array(\"C\", data=df[\"C\"].values, dtype=object, object_codec=numcodecs.VLenUTF8())"
   ]
  },
  {
   "cell_type": "markdown",
   "metadata": {},
   "source": [
    "### From RDKit (e.g. SDF)\n",
    "\n",
    "The ability to encode custom Python objects is powerful. \n",
    "\n",
    "Using custom object codecs that Polaris provides, we can for example also store RDKit [`Chem.Mol`](https://www.rdkit.org/docs/source/rdkit.Chem.rdchem.html#rdkit.Chem.rdchem.Mol) objects in a Zarr array."
   ]
  },
  {
   "cell_type": "code",
   "execution_count": null,
   "metadata": {},
   "outputs": [],
   "source": [
    "# Create an exemplary molecule\n",
    "mol = Chem.MolFromSmiles('Cc1ccccc1')\n",
    "mol"
   ]
  },
  {
   "cell_type": "code",
   "execution_count": null,
   "metadata": {},
   "outputs": [],
   "source": [
    "from polaris.dataset.zarr.codecs import RDKitMolCodec\n",
    "\n",
    "# Write it to a Zarr array\n",
    "root = zarr.open(zarr_root_path, \"w\")\n",
    "root.array(\"molecules\", data=[mol] * 100, dtype=object, object_codec=RDKitMolCodec())"
   ]
  },
  {
   "cell_type": "markdown",
   "metadata": {},
   "source": [
    "A common use case of this is to convert a number of **SDF files** to a Zarr array.\n",
    "\n",
    "1. Load the SDF files using RDKit to `Chem.Mol` objects.\n",
    "2. Create a Zarr array with the `RDKitMolCodec`.\n",
    "3. Store all RDKit objects in the Zarr array.\n",
    "\n",
    "### From Biotite (e.g. mmCIF)\n",
    "Similarly, we can also store entire protein structures, as represented by the Biotite [`AtomArray`](https://www.biotite-python.org/latest/apidoc/biotite.structure.AtomArray.html) class."
   ]
  },
  {
   "cell_type": "code",
   "execution_count": null,
   "metadata": {},
   "outputs": [],
   "source": [
    "from tempfile import TemporaryDirectory\n",
    "\n",
    "import biotite.database.rcsb as rcsb\n",
    "from biotite.structure.io import load_structure\n",
    "\n",
    "# Load an exemplary structure\n",
    "with TemporaryDirectory() as tmpdir: \n",
    "    path = rcsb.fetch(\"1l2y\", \"pdb\", tmpdir)\n",
    "    struct = load_structure(path, model=1)"
   ]
  },
  {
   "cell_type": "code",
   "execution_count": null,
   "metadata": {},
   "outputs": [],
   "source": [
    "from polaris.dataset.zarr.codecs import AtomArrayCodec\n",
    "\n",
    "# Write it to a Zarr array\n",
    "root = zarr.open(zarr_root_path, \"w\")\n",
    "root.array(\"molecules\", data=[struct] * 100, dtype=object, object_codec=AtomArrayCodec())"
   ]
  },
  {
   "cell_type": "markdown",
   "metadata": {},
   "source": [
    "### From Images (e.g. PNG)\n",
    "For more convential formats, such as images, codecs likely exist already.\n",
    "\n",
    "For images for example, these codecs are bundled in [`imagecodecs`](https://github.com/cgohlke/imagecodecs), which is an optional dependency of Polaris.\n",
    "\n",
    "An image is commonly represented as a 3D array (i.e. width x height x channels). It's therefore not needed to use object_codecs here. Instead, we specify the _compressor_ Zarr should use to compress its _chunks_."
   ]
  },
  {
   "cell_type": "code",
   "execution_count": null,
   "metadata": {},
   "outputs": [],
   "source": [
    "from imagecodecs.numcodecs import Jpeg2k\n",
    "\n",
    "# You need to explicitly register the codec\n",
    "numcodecs.register_codec(Jpeg2k)"
   ]
  },
  {
   "cell_type": "code",
   "execution_count": null,
   "metadata": {},
   "outputs": [],
   "source": [
    "root = zarr.open(zarr_root_path, \"w\")\n",
    "\n",
    "# Array with a single 3 channel image\n",
    "arr = root.zeros(\n",
    "    \"image\",\n",
    "    shape=(1, 512, 512, 3),\n",
    "    chunks=(1, 512, 512, 3),\n",
    "    dtype='u1',\n",
    "    compressor=Jpeg2k(level=52, reversible=True),\n",
    ")\n",
    "\n",
    "arr[0] = img"
   ]
  },
  {
   "cell_type": "markdown",
   "metadata": {},
   "source": [
    "## Share your dataset\n",
    "Want to share your dataset with the community? Upload it to the Polaris Hub!"
   ]
  },
  {
   "cell_type": "code",
   "execution_count": null,
   "metadata": {},
   "outputs": [],
   "source": [
    "dataset.upload_to_hub(owner=\"your-username\")"
   ]
  },
  {
   "cell_type": "markdown",
   "metadata": {},
   "source": [
    "## Advanced: Optimization\n",
    "In this tutorial, we only briefly touched on the high-level concepts that need to be understood to create a Polaris compatible dataset using Zarr. However, Zarr has a lot more to offer and tweaking the settings **can drastically improve storage or data access efficiency.**\n",
    "\n",
    "If you would like to learn more, please see the [Zarr documentation](https://zarr.readthedocs.io/en/stable/user-guide/performance.html#changing-chunk-shapes-rechunking).\n",
    "\n",
    "---\n",
    "\n",
    "The End."
   ]
  }
 ],
 "metadata": {
  "kernelspec": {
   "display_name": "Python 3 (ipykernel)",
   "language": "python",
   "name": "python3"
  },
  "language_info": {
   "codemirror_mode": {
    "name": "ipython",
    "version": 3
   },
   "file_extension": ".py",
   "mimetype": "text/x-python",
   "name": "python",
   "nbconvert_exporter": "python",
   "pygments_lexer": "ipython3",
   "version": "3.12.8"
  }
 },
 "nbformat": 4,
 "nbformat_minor": 4
}
