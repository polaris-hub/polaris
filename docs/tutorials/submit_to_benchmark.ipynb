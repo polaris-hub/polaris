{
 "cells": [
  {
   "cell_type": "markdown",
   "id": "40f99374-b47e-4f84-bdb9-148a11f9c07d",
   "metadata": {
    "editable": true,
    "slideshow": {
     "slide_type": ""
    },
    "tags": []
   },
   "source": [
    "This tutorial is an extended version of the [Quickstart Guide](../quickstart.html)"
   ]
  },
  {
   "cell_type": "code",
   "execution_count": null,
   "id": "3d66f466",
   "metadata": {
    "editable": true,
    "slideshow": {
     "slide_type": ""
    },
    "tags": [
     "remove_cell"
    ]
   },
   "outputs": [],
   "source": [
    "# Note: Cell is tagged to not show up in the mkdocs build\n",
    "%load_ext autoreload\n",
    "%autoreload 2"
   ]
  },
  {
   "cell_type": "code",
   "execution_count": null,
   "id": "9b465ea4-7c71-443b-9908-3f9e567ee4c4",
   "metadata": {},
   "outputs": [],
   "source": [
    "import polaris as po"
   ]
  },
  {
   "cell_type": "markdown",
   "id": "168c7f21-f9ec-43e2-b123-2bdcba2e8a71",
   "metadata": {},
   "source": [
    "## Login\n",
    "We first need to authenticate ourselves using our Polaris account. If you don't have an account yet, you can create one [here](https://polarishub.io/sign-up)."
   ]
  },
  {
   "cell_type": "code",
   "execution_count": null,
   "id": "de8bf4bf-4dbd-42eb-8f74-bf8aa0339469",
   "metadata": {},
   "outputs": [],
   "source": [
    "from polaris.hub.client import PolarisHubClient\n",
    "\n",
    "with PolarisHubClient() as client:\n",
    "    client.login()"
   ]
  },
  {
   "cell_type": "markdown",
   "id": "5edee39f-ce29-4ae6-91ce-453d9190541b",
   "metadata": {},
   "source": [
    "## Load from the Hub\n",
    "Datasets and benchmarks are identified by a `owner/slug` id. "
   ]
  },
  {
   "cell_type": "code",
   "execution_count": null,
   "id": "4e004589-6c48-4232-b353-b1700536dde6",
   "metadata": {},
   "outputs": [],
   "source": [
    "benchmark = po.load_benchmark(\"polaris/hello-world-benchmark\")"
   ]
  },
  {
   "cell_type": "markdown",
   "id": "9c6efb7f-b59f-4d28-a374-9a5336e5c817",
   "metadata": {},
   "source": [
    "Loading a benchmark will automatically load the underlying dataset. \n",
    "\n",
    "You can also load the dataset directly. "
   ]
  },
  {
   "cell_type": "code",
   "execution_count": null,
   "id": "1e65d085-7f93-4b6f-8c2b-03b547b89e69",
   "metadata": {},
   "outputs": [],
   "source": [
    "dataset = po.load_dataset(\"polaris/hello-world\")"
   ]
  },
  {
   "cell_type": "markdown",
   "id": "1ce8e0e5-88c8-4d3b-9292-e75c97315833",
   "metadata": {},
   "source": [
    "## The Benchmark API\n",
    "The benchmark object provides two main API endpoints. \n",
    "\n",
    "- `get_train_test_split()`: For creating objects through which we can access the different dataset partitions.\n",
    "- `evaluate()`: For evaluating a set of predictions in accordance with the benchmark protocol.\n",
    "\n",
    "### Train-test split"
   ]
  },
  {
   "cell_type": "code",
   "execution_count": null,
   "id": "054563dd-fe8b-4681-89d6-869b35d8a210",
   "metadata": {},
   "outputs": [],
   "source": [
    "train, test = benchmark.get_train_test_split()"
   ]
  },
  {
   "cell_type": "markdown",
   "id": "1926b12f-2c19-4be8-8d8f-d7eef606b2da",
   "metadata": {},
   "source": [
    "The created objects support various flavours to access the data.\n",
    "- The objects are iterable;\n",
    "- The objects can be indexed;\n",
    "- The objects have properties to access all data at once."
   ]
  },
  {
   "cell_type": "code",
   "execution_count": null,
   "id": "43cbe460",
   "metadata": {},
   "outputs": [],
   "source": [
    "for x, y in train:\n",
    "    pass"
   ]
  },
  {
   "cell_type": "code",
   "execution_count": null,
   "id": "2f317c10",
   "metadata": {},
   "outputs": [],
   "source": [
    "for i in range(len(train)):\n",
    "    x, y = train[i]"
   ]
  },
  {
   "cell_type": "code",
   "execution_count": null,
   "id": "08ce24c7-992a-40a7-b8ef-c862fab99e6e",
   "metadata": {},
   "outputs": [],
   "source": [
    "x = train.inputs\n",
    "y = train.targets"
   ]
  },
  {
   "cell_type": "markdown",
   "id": "d5fa35c5-e2d0-4d75-a2cb-75b4749d91ef",
   "metadata": {},
   "source": [
    "To avoid accidental access to the test targets, the test object does not expose the labels and will throw an error if you try access them explicitly."
   ]
  },
  {
   "cell_type": "code",
   "execution_count": null,
   "id": "8c33b7d4-fa82-4994-a7ab-5d0821ad5fd4",
   "metadata": {
    "scrolled": true
   },
   "outputs": [],
   "source": [
    "for x in test:\n",
    "    pass"
   ]
  },
  {
   "cell_type": "code",
   "execution_count": null,
   "id": "8b4ac073",
   "metadata": {},
   "outputs": [],
   "source": [
    "for i in range(len(test)):\n",
    "    x = test[i]"
   ]
  },
  {
   "cell_type": "code",
   "execution_count": null,
   "id": "5664eb87",
   "metadata": {},
   "outputs": [],
   "source": [
    "x = test.inputs\n",
    "\n",
    "# NOTE: The below will throw an error!\n",
    "# y = test.targets"
   ]
  },
  {
   "cell_type": "markdown",
   "id": "2f9f2b23-2621-461d-95bc-3a8ddb2d3970",
   "metadata": {},
   "source": [
    "We also support conversion to other typical formats."
   ]
  },
  {
   "cell_type": "code",
   "execution_count": null,
   "id": "ece710e5-e271-4c25-9d7b-32e098db194d",
   "metadata": {},
   "outputs": [],
   "source": [
    "df_train = train.as_dataframe()"
   ]
  },
  {
   "cell_type": "markdown",
   "id": "955ad9db-3468-4f34-b303-18e6d642be56",
   "metadata": {},
   "source": [
    "### Submit your results\n",
    "\n",
    "In this example, we will train a simple Random Forest model on the ECFP representation through [scikit-learn](https://scikit-learn.org/stable/) and [datamol](https://github.com/datamol-io/datamol)."
   ]
  },
  {
   "cell_type": "code",
   "execution_count": null,
   "id": "748dd278-0fd0-4c5b-ac6a-8d974143c3b9",
   "metadata": {},
   "outputs": [],
   "source": [
    "import datamol as dm\n",
    "from sklearn.ensemble import RandomForestRegressor\n",
    "\n",
    "# We will recreate the split to pass a featurization function.\n",
    "train, test = benchmark.get_train_test_split(featurization_fn=dm.to_fp)\n",
    "\n",
    "# Define a model and train\n",
    "model = RandomForestRegressor(max_depth=2, random_state=0)\n",
    "model.fit(train.X, train.y)"
   ]
  },
  {
   "cell_type": "code",
   "execution_count": null,
   "id": "6633ec79-a6ff-4ce0-bc7d-cdb9e1042462",
   "metadata": {},
   "outputs": [],
   "source": [
    "predictions = model.predict(test.X)"
   ]
  },
  {
   "cell_type": "markdown",
   "id": "d59b969e-5a66-4626-a865-f2b2aeea890d",
   "metadata": {},
   "source": [
    "As said before, evaluating the submissions should be done through the `evaluate()` endpoint."
   ]
  },
  {
   "cell_type": "code",
   "execution_count": null,
   "id": "79c072cf-683e-4257-b31e-59fdbcf5e979",
   "metadata": {},
   "outputs": [],
   "source": [
    "results = benchmark.evaluate(predictions)\n",
    "results"
   ]
  },
  {
   "cell_type": "markdown",
   "id": "90114c20-4c01-432b-9f4d-b31863881cc6",
   "metadata": {},
   "source": [
    "Before uploading the results to the Hub, you can provide some additional information about the results that will be displayed on the Polaris Hub."
   ]
  },
  {
   "cell_type": "code",
   "execution_count": null,
   "id": "a601f415-c563-4efe-94c3-0d44f3fd6576",
   "metadata": {},
   "outputs": [],
   "source": [
    "# For a complete list of metadata, check out the BenchmarkResults object\n",
    "results.name = \"hello-world-result\"\n",
    "results.github_url = \"https://github.com/polaris-hub/polaris-hub\"\n",
    "results.paper_url = \"https://polarishub.io/\"\n",
    "results.description = \"Hello, World!\"\n",
    "results.tags = [\"random_forest\", \"ecfp\"]\n",
    "results.user_attributes = {\"Framework\": \"Scikit-learn\"}"
   ]
  },
  {
   "cell_type": "markdown",
   "id": "4e7cc06d",
   "metadata": {},
   "source": [
    "Finally, let's upload the results to the Hub!"
   ]
  },
  {
   "cell_type": "code",
   "execution_count": null,
   "id": "60cbf4b9-8514-480d-beda-8a50e5f7c9a6",
   "metadata": {
    "scrolled": true
   },
   "outputs": [],
   "source": [
    "results.upload_to_hub(owner=\"my-username\", access=\"public\")"
   ]
  },
  {
   "cell_type": "markdown",
   "id": "78fe8d63",
   "metadata": {},
   "source": [
    "That's it! Just like that you have submitted a result to a Polaris benchmark\n",
    "\n",
    "---\n",
    "\n",
    "The End.\n"
   ]
  }
 ],
 "metadata": {
  "kernelspec": {
   "display_name": "Python 3 (ipykernel)",
   "language": "python",
   "name": "python3"
  },
  "language_info": {
   "codemirror_mode": {
    "name": "ipython",
    "version": 3
   },
   "file_extension": ".py",
   "mimetype": "text/x-python",
   "name": "python",
   "nbconvert_exporter": "python",
   "pygments_lexer": "ipython3",
   "version": "3.12.8"
  }
 },
 "nbformat": 4,
 "nbformat_minor": 5
}
