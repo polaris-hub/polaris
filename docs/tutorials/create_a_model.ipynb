{
 "cells": [
  {
   "cell_type": "markdown",
   "metadata": {},
   "source": [
    "A model in Polaris centralizes all data about a method and can be attached to different results.\n",
    "\n",
    "## Create a Model\n",
    "\n",
    "To create a model, you need to instantiate the `Model` class. "
   ]
  },
  {
   "cell_type": "code",
   "execution_count": 4,
   "metadata": {},
   "outputs": [],
   "source": [
    "from polaris.model import Model\n",
    "\n",
    "# Create a new Model Card\n",
    "model = Model(\n",
    "    name=\"MolGPS\", \n",
    "    description=\"Graph transformer foundation model for molecular modeling\",\n",
    "    code_url=\"https://github.com/datamol-io/graphium\"\n",
    ")"
   ]
  },
  {
   "cell_type": "markdown",
   "metadata": {},
   "source": [
    "## Share your model\n",
    "Want to share your model with the community? Upload it to the Polaris Hub!"
   ]
  },
  {
   "cell_type": "code",
   "execution_count": null,
   "metadata": {},
   "outputs": [],
   "source": [
    "model.upload_to_hub(owner=\"your-username\")"
   ]
  },
  {
   "cell_type": "markdown",
   "metadata": {},
   "source": [
    "## Attach a model with a result\n",
    "\n",
    "The model card can then be attached to a newly created result on upload."
   ]
  },
  {
   "cell_type": "code",
   "execution_count": null,
   "metadata": {},
   "outputs": [],
   "source": [
    "import polaris as po\n",
    "\n",
    "# Load a benchmark\n",
    "benchmark = po.load_benchmark(\"polaris/hello-world\")\n",
    "\n",
    "# Get the results\n",
    "results = benchmark.evaluate(...)\n",
    "\n",
    "# Attach it to the result\n",
    "results.model = po.load_model(\"recursion/MolGPS\")\n",
    "\n",
    "# Upload the results\n",
    "results.upload_to_hub(owner=\"dummy-user\")"
   ]
  },
  {
   "cell_type": "markdown",
   "metadata": {},
   "source": [
    "Alternatively, you could also do"
   ]
  },
  {
   "cell_type": "code",
   "execution_count": null,
   "metadata": {},
   "outputs": [],
   "source": [
    "# Get the results\n",
    "results = benchmark.evaluate(...)\n",
    "\n",
    "# Attach it to the result\n",
    "results.model = Model(\n",
    "    name=\"MolGPS\",\n",
    "    owner=\"recursion\",\n",
    "    description=\"Graph transformer foundation model for molecular modeling\",\n",
    "    code_url=\"https://github.com/datamol-io/graphium\"\n",
    ")\n",
    "\n",
    "# Upload the results\n",
    "results.upload_to_hub(owner=\"dummy-user\")"
   ]
  },
  {
   "cell_type": "markdown",
   "metadata": {},
   "source": [
    "---\n",
    "\n",
    "The End. "
   ]
  }
 ],
 "metadata": {
  "kernelspec": {
   "display_name": ".venv",
   "language": "python",
   "name": "python3"
  },
  "language_info": {
   "codemirror_mode": {
    "name": "ipython",
    "version": 3
   },
   "file_extension": ".py",
   "mimetype": "text/x-python",
   "name": "python",
   "nbconvert_exporter": "python",
   "pygments_lexer": "ipython3",
   "version": "3.12.0"
  }
 },
 "nbformat": 4,
 "nbformat_minor": 2
}
